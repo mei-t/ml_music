{
 "cells": [
  {
   "cell_type": "code",
   "execution_count": 5,
   "metadata": {
    "colab": {
     "base_uri": "https://localhost:8080/",
     "height": 107
    },
    "colab_type": "code",
    "id": "BHLh_kOoMAQo",
    "outputId": "4f2647d6-06dc-4c3b-b413-8b5461471833"
   },
   "outputs": [
    {
     "name": "stdout",
     "output_type": "stream",
     "text": [
      "170\n",
      "False\n",
      "\n",
      "[30.  0. 10.  2. 22. 32.  6. 20.  0. 28. 20.  0.]\n"
     ]
    },
    {
     "data": {
      "text/plain": [
       "0"
      ]
     },
     "execution_count": 5,
     "metadata": {},
     "output_type": "execute_result"
    }
   ],
   "source": [
    "import pretty_midi as pm\n",
    "import scipy\n",
    "import os\n",
    "import matplotlib.pyplot as plt\n",
    "import glob\n",
    "import numpy as np\n",
    "import tensorflow as tf\n",
    "tf.enable_eager_execution()\n",
    "\n",
    "\n",
    "if not os.getcwd().endswith(\"/music\"):\n",
    "   os.chdir(\"music\")\n",
    "inf = pm.PrettyMIDI('example.mid')\n",
    "inf.instruments\n",
    "\n",
    "x = inf.instruments[0]\n",
    "print(len(x.notes))\n",
    "print(x.is_drum)\n",
    "print(x.name)\n",
    "print(x.get_pitch_class_histogram())\n",
    "\n",
    "x.program"
   ]
  },
  {
   "cell_type": "code",
   "execution_count": 6,
   "metadata": {
    "colab": {
     "base_uri": "https://localhost:8080/",
     "height": 181
    },
    "colab_type": "code",
    "id": "SXec2wwwa4n2",
    "outputId": "e7146404-feec-4116-8c36-a80a5eaf2481"
   },
   "outputs": [
    {
     "name": "stdout",
     "output_type": "stream",
     "text": [
      "Tempo: 155.833489\n",
      "(128, 72)\n"
     ]
    },
    {
     "data": {
      "text/plain": [
       "<matplotlib.image.AxesImage at 0xb33a97290>"
      ]
     },
     "execution_count": 6,
     "metadata": {},
     "output_type": "execute_result"
    },
    {
     "data": {
      "image/png": "[encoded data removed]",
      "text/plain": [
       "<Figure size 1008x648 with 1 Axes>"
      ]
     },
     "metadata": {
      "needs_background": "light"
     },
     "output_type": "display_data"
    }
   ],
   "source": [
    "def IsolateMelody(dat):\n",
    "  interesting = [i for i in dat.instruments if lambda i: len(i.notes)>0 and not i.is_drum]\n",
    "  interesting = sorted(interesting, reverse=True, key=lambda i: len(i.notes))\n",
    "  #s = sorted(interesting, key=lambda i: len(i.notes))\n",
    "  return interesting[0:8]\n",
    "\n",
    "def MergeInstruments(insts):\n",
    "  out = insts[0]\n",
    "  out.name = \"merged\"\n",
    "  #print(\"Base instrument: %s, has %d notes\" % (out, len(out.notes)))\n",
    "  for inst in insts[1:]:\n",
    "    #print(\"adding %s, has %d notes\" % (inst, len(inst.notes)))\n",
    "    out.notes += inst.notes\n",
    "    #print(\"result: %s has %d notes\" % (out, len(out.notes)))\n",
    "  #print(\"final result: %s has %d notes\" % (out, len(out.notes)))\n",
    "  return out\n",
    "\n",
    "inf = pm.PrettyMIDI('example.mid')\n",
    "out = pm.PrettyMIDI()\n",
    "out.instruments = [MergeInstruments(IsolateMelody(inf))]\n",
    "out.write(\"testout.mid\")\n",
    "print(\"Tempo: %f\" % out.estimate_tempo())\n",
    "pr = out.get_piano_roll(fs=out.estimate_tempo()/60/2)\n",
    "#pr = out.get_chroma(times=out.get_beats())\n",
    "print(pr.shape)\n",
    "\n",
    "fig = plt.figure(figsize=(14, 9))\n",
    "ax  = fig.add_subplot(1, 1, 1)\n",
    "plt.imshow(pr)"
   ]
  },
  {
   "cell_type": "code",
   "execution_count": 8,
   "metadata": {
    "colab": {
     "base_uri": "https://localhost:8080/",
     "height": 170
    },
    "colab_type": "code",
    "id": "tFsrH53rfAdn",
    "outputId": "5ad180c2-bd42-464a-92d7-309c1a7b2e76"
   },
   "outputs": [
    {
     "name": "stdout",
     "output_type": "stream",
     "text": [
      "Tempo: 191.622565\n",
      "(128, 290)\n"
     ]
    },
    {
     "data": {
      "text/plain": [
       "<matplotlib.image.AxesImage at 0xb33ba3d50>"
      ]
     },
     "execution_count": 8,
     "metadata": {},
     "output_type": "execute_result"
    },
    {
     "data": {
      "image/png": "[encoded data removed]",
      "text/plain": [
       "<Figure size 1008x648 with 1 Axes>"
      ]
     },
     "metadata": {
      "needs_background": "light"
     },
     "output_type": "display_data"
    }
   ],
   "source": [
    "out = pm.PrettyMIDI()\n",
    "out.instruments = [MergeInstruments(IsolateMelody(pm.PrettyMIDI(\"ex2.mid\")))]\n",
    "out.write(\"testout.mid\")\n",
    "print(\"Tempo: %f\" % out.estimate_tempo())\n",
    "pr = out.get_piano_roll(fs=out.estimate_tempo()/60/2)\n",
    "print(pr.shape)\n",
    "fig = plt.figure(figsize=(14, 9))\n",
    "ax  = fig.add_subplot(1, 1, 1)\n",
    "plt.imshow(pr)"
   ]
  },
  {
   "cell_type": "code",
   "execution_count": 10,
   "metadata": {
    "colab": {
     "base_uri": "https://localhost:8080/",
     "height": 61
    },
    "colab_type": "code",
    "id": "u743vxCE-p9E",
    "outputId": "791e7ca3-ac58-4049-abe8-94b7ac122f91"
   },
   "outputs": [
    {
     "data": {
      "image/png": "[encoded data removed]",
      "text/plain": [
       "<Figure size 1008x648 with 1 Axes>"
      ]
     },
     "metadata": {
      "needs_background": "light"
     },
     "output_type": "display_data"
    }
   ],
   "source": [
    "def Datify(file):\n",
    "  md = pm.PrettyMIDI(file);\n",
    "  out = pm.PrettyMIDI()\n",
    "  out.instruments = [MergeInstruments(IsolateMelody(md))]\n",
    "  dat = {'fs': 512 / out.get_end_time(), 'src': file, 'midi': md, 'simplified': out}\n",
    "  dat['tempo'] = out.estimate_tempo()\n",
    "  dat['fs'] = out.estimate_tempo()/60*4\n",
    "  dat['frames'] = out.get_end_time() / dat['fs']\n",
    "  dat['pr'] = out.get_piano_roll(dat['fs'])\n",
    "  return dat\n",
    "  # pr = out.get_piano_roll(fs=out.estimate_tempo()/60/2)\n",
    "  #return ExpSeq(pr)\n",
    "\n",
    "def Sequify(file):\n",
    "  return Datify(file)['pr'];\n",
    "\n",
    "def ExpSeq(pr):\n",
    "  # We need to broadcast the image array such that it has a batch dimension # https://github.com/tensorflow/models/blob/master/research/nst_blogpost/4_Neural_Style_Transfer_with_Eager_Execution.ipynb\n",
    "  return np.expand_dims(pr, axis=0)\n",
    "\n",
    "def SqSeq(pr):\n",
    "  return np.squeeze(pr, axis=0)\n",
    "\n",
    "def Pr(dat):\n",
    "  return dat['pr']\n",
    "\n",
    "def PlotPR(pr):\n",
    "  fig = plt.figure(figsize=(14, 9))\n",
    "  ax  = fig.add_subplot(1, 1, 1)\n",
    "  #img = SqSeq(pr)\n",
    "  img = pr\n",
    "  plt.imshow(img)\n",
    "\n",
    "PlotPR(Sequify(\"example.mid\"))"
   ]
  },
  {
   "cell_type": "code",
   "execution_count": 12,
   "metadata": {
    "colab": {
     "base_uri": "https://localhost:8080/",
     "height": 73
    },
    "colab_type": "code",
    "id": "fO45Sr_DclWc",
    "outputId": "46bae96e-6a3a-4c80-88e8-ebd18e228284"
   },
   "outputs": [],
   "source": [
    "if True:\n",
    "  corpus = [Datify(file) for file in sorted(glob.glob(\"liszt/*.mid\"))]"
   ]
  },
  {
   "cell_type": "code",
   "execution_count": 13,
   "metadata": {
    "colab": {
     "base_uri": "https://localhost:8080/",
     "height": 53
    },
    "colab_type": "code",
    "id": "8EggFl8JOEZ3",
    "outputId": "f33d7f0e-5b8d-4765-855e-3ce205977bc2"
   },
   "outputs": [
    {
     "name": "stdout",
     "output_type": "stream",
     "text": [
      "11\n",
      "(128, 13400)\n"
     ]
    }
   ],
   "source": [
    "print(len(corpus))\n",
    "print(corpus[0]['pr'].shape)"
   ]
  },
  {
   "cell_type": "code",
   "execution_count": 14,
   "metadata": {
    "colab": {},
    "colab_type": "code",
    "id": "JFyJq4abWVl_"
   },
   "outputs": [],
   "source": [
    "# 学習して生成したpiano rollをmidi fileを元に戻す\n",
    "import pretty_midi\n",
    "def piano_roll_to_pretty_midi(piano_roll, fs=100, program=1):\n",
    "    '''Convert a Piano Roll array into a PrettyMidi object\n",
    "     with a single instrument.\n",
    "    Parameters\n",
    "    ----------\n",
    "    piano_roll : np.ndarray, shape=(128,frames), dtype=int\n",
    "        Piano roll of one instrument\n",
    "    fs : int\n",
    "        Sampling frequency of the columns, i.e. each column is spaced apart\n",
    "        by ``1./fs`` seconds.\n",
    "    program : int\n",
    "        The program number of the instrument.\n",
    "    Returns\n",
    "    -------\n",
    "    midi_object : pretty_midi.PrettyMIDI\n",
    "        A pretty_midi.PrettyMIDI class instance describing\n",
    "        the piano roll.\n",
    "    '''\n",
    "    notes, frames = piano_roll.shape\n",
    "    pm = pretty_midi.PrettyMIDI()\n",
    "    instrument = pretty_midi.Instrument(program=program)\n",
    "\n",
    "    # pad 1 column of zeros so we can acknowledge inital and ending events\n",
    "    piano_roll = np.pad(piano_roll, [(0, 0), (1, 1)], 'constant')\n",
    "\n",
    "    # use changes in velocities to find note on / note off events\n",
    "    velocity_changes = np.nonzero(np.diff(piano_roll).T)\n",
    "\n",
    "    # keep track on velocities and note on times\n",
    "    prev_velocities = np.zeros(notes, dtype=int)\n",
    "    note_on_time = np.zeros(notes)\n",
    "\n",
    "    for time, note in zip(*velocity_changes):\n",
    "        # use time + 1 because of padding above\n",
    "        velocity = piano_roll[note, time + 1]\n",
    "        time = time / fs\n",
    "        if velocity > 0.004:\n",
    "            if prev_velocities[note] == 0:\n",
    "                note_on_time[note] = time\n",
    "                prev_velocities[note] = 100 # krispop changed: velocity → 100\n",
    "        else:\n",
    "            pm_note = pretty_midi.Note(\n",
    "                velocity=prev_velocities[note],\n",
    "                pitch=note,\n",
    "                start=note_on_time[note],\n",
    "                end=time)\n",
    "            instrument.notes.append(pm_note)\n",
    "            prev_velocities[note] = 0\n",
    "    pm.instruments.append(instrument)\n",
    "    return pm"
   ]
  },
  {
   "cell_type": "code",
   "execution_count": 15,
   "metadata": {
    "colab": {
     "base_uri": "https://localhost:8080/",
     "height": 181
    },
    "colab_type": "code",
    "id": "xX18D0PwcyHD",
    "outputId": "0eb94d10-e69e-480c-9b49-ea53d665670e"
   },
   "outputs": [
    {
     "name": "stdout",
     "output_type": "stream",
     "text": [
      "Wrote: liszt/liz_donjuan.mid @ 13.260349837994438\n",
      "{'pr': array([[0., 0., 0., ..., 0., 0., 0.],\n",
      "       [0., 0., 0., ..., 0., 0., 0.],\n",
      "       [0., 0., 0., ..., 0., 0., 0.],\n",
      "       ...,\n",
      "       [0., 0., 0., ..., 0., 0., 0.],\n",
      "       [0., 0., 0., ..., 0., 0., 0.],\n",
      "       [0., 0., 0., ..., 0., 0., 0.]]), 'src': 'liszt/liz_donjuan.mid', 'fs': 13.260349837994438, 'midi': <pretty_midi.pretty_midi.PrettyMIDI object at 0xb339f87d0>, 'tempo': 198.90524756991658, 'simplified': <pretty_midi.pretty_midi.PrettyMIDI object at 0xb3391fc10>, 'frames': 76.21065079688408}\n"
     ]
    }
   ],
   "source": [
    "# 前処理と後処理の確認。corp0-in.midがinput、corp0-simp.midが前処理後、corp0-conv.midが\n",
    "# corp0-simp.midを一度piano rollに変換した後midiファイルに戻したもの。\n",
    "np.savetxt(\"corp0.tsv\", corpus[0]['pr'], delimiter=\"\\t\")\n",
    "piano_roll_to_pretty_midi(corpus[0]['pr'], corpus[0]['fs']).write(\"corp0-conv.mid\")\n",
    "print(\"Wrote: %s @ %s\" % (corpus[0]['src'], corpus[0]['fs']))\n",
    "corpus[0]['midi'].write(\"corp0-in.mid\")\n",
    "corpus[0]['simplified'].write(\"corp0-simp.mid\")\n",
    "print(corpus[0])"
   ]
  },
  {
   "cell_type": "code",
   "execution_count": 16,
   "metadata": {
    "colab": {
     "base_uri": "https://localhost:8080/",
     "height": 269
    },
    "colab_type": "code",
    "id": "hLwCr8gvmPZK",
    "outputId": "0da67570-d459-4a21-adc4-20a55538ae21"
   },
   "outputs": [
    {
     "data": {
      "image/png": "[encoded data removed]",
      "text/plain": [
       "<Figure size 432x288 with 1 Axes>"
      ]
     },
     "metadata": {
      "needs_background": "light"
     },
     "output_type": "display_data"
    }
   ],
   "source": [
    "ex = corpus[0]['pr']\n",
    "\n",
    "#ref https://www.tensorflow.org/tutorials/sequences/text_generation\n",
    "\n",
    "seq_length = 100\n",
    "examples_per_epoch = ex.shape[1]\n",
    "pr_dataset = tf.data.Dataset.from_tensor_slices(ex.T)\n",
    "pr_dataset.output_shapes\n",
    "\n",
    "#for i in pr_dataset.take(5):\n",
    "#  print(i.numpy())\n",
    "#  print(i.numpy().shape)\n",
    "\n",
    "sequences = pr_dataset.batch(seq_length+1, drop_remainder=True)\n",
    "\n",
    "for item in sequences.take(3):\n",
    "  plt.imshow(item.numpy())"
   ]
  },
  {
   "cell_type": "code",
   "execution_count": 20,
   "metadata": {},
   "outputs": [
    {
     "data": {
      "image/png": "[encoded data removed]",
      "text/plain": [
       "<Figure size 432x288 with 1 Axes>"
      ]
     },
     "metadata": {
      "needs_background": "light"
     },
     "output_type": "display_data"
    }
   ],
   "source": [
    "def split_input_target(chunk):\n",
    "    input_text = chunk[:-1]\n",
    "    target_text = chunk[1:]\n",
    "    return input_text, target_text\n",
    "\n",
    "dataset = sequences.map(split_input_target)\n",
    "\n",
    "for item in sequences.take(3):\n",
    " plt.imshow(item.numpy())"
   ]
  },
  {
   "cell_type": "code",
   "execution_count": 19,
   "metadata": {},
   "outputs": [
    {
     "data": {
      "text/plain": [
       "<BatchDataset shapes: ((64, 100, 128), (64, 100, 128)), types: (tf.float64, tf.float64)>"
      ]
     },
     "execution_count": 19,
     "metadata": {},
     "output_type": "execute_result"
    }
   ],
   "source": [
    "BATCH_SIZE = 64\n",
    "steps_per_epoch = examples_per_epoch//BATCH_SIZE\n",
    "\n",
    "# Buffer size to shuffle the dataset\n",
    "# (TF data is designed to work with possibly infinite sequences, \n",
    "# so it doesn't attempt to shuffle the entire sequence in memory. Instead, \n",
    "# it maintains a buffer in which it shuffles elements).\n",
    "BUFFER_SIZE = 10000\n",
    "\n",
    "dataset = dataset.shuffle(BUFFER_SIZE).batch(BATCH_SIZE, drop_remainder=True)\n",
    "#ref https://www.tensorflow.org/api_docs/python/tf/contrib/data/batch_and_drop_remainder\n",
    "\n",
    "dataset"
   ]
  },
  {
   "cell_type": "code",
   "execution_count": null,
   "metadata": {},
   "outputs": [],
   "source": [
    "# The embedding dimension\n",
    "embedding_dim = 256\n",
    "# The number of notes in one column of piano roll.\n",
    "keys_dim = 128\n",
    "rnn_units = 1024\n",
    "\n",
    "if tf.test.is_gpu_available():\n",
    "  rnn = tf.keras.layers.CuDNNGRU\n",
    "else:\n",
    "  import functools\n",
    "  rnn = functools.partial(\n",
    "    tf.keras.layers.GRU, recurrent_activation='sigmoid')\n",
    "    \n",
    "def build_model(embedding_dim, rnn_units, batch_size):\n",
    "  model = tf.keras.Sequential([\n",
    "    tf.keras.layers.Dense(embedding_dim, \n",
    "                              batch_input_shape=[batch_size, keys_dim]),\n",
    "    rnn(rnn_units,\n",
    "        return_sequences=True, \n",
    "        recurrent_initializer='glorot_uniform',\n",
    "        stateful=True),\n",
    "    tf.keras.layers.Dense(vocab_size)\n",
    "  ])\n",
    "  return model"
   ]
  }
 ],
 "metadata": {
  "colab": {
   "collapsed_sections": [],
   "name": "music playground.ipynb",
   "provenance": [],
   "version": "0.3.2"
  },
  "kernelspec": {
   "display_name": "Python 2",
   "language": "python",
   "name": "python2"
  },
  "language_info": {
   "codemirror_mode": {
    "name": "ipython",
    "version": 2
   },
   "file_extension": ".py",
   "mimetype": "text/x-python",
   "name": "python",
   "nbconvert_exporter": "python",
   "pygments_lexer": "ipython2",
   "version": "2.7.15"
  }
 },
 "nbformat": 4,
 "nbformat_minor": 1
}

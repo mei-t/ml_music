{
 "cells":[
  {
   "cell_type":"code",
   "execution_count":90,
   "metadata":{
    "colab":{
     "base_uri":"https://localhost:8080/",
     "height":34
    },
    "colab_type":"code",
    "executionInfo":{
     "elapsed":582,
     "status":"ok",
     "timestamp":1546407790923,
     "user":{
      "displayName":"Mei Takahashi",
      "photoUrl":"",
      "userId":"02251372869210776306"
     },
     "user_tz":-540
    },
    "id":"z8KBptYi6jSg",
    "outputId":"68090d88-fa36-4940-faea-62b0cb6ef55f"
   },
   "outputs":[
    {
     "name":"stdout",
     "output_type":"stream",
     "text":[
      "Drive already mounted at /content/gdrive; to attempt to forcibly remount, call drive.mount(\"/content/gdrive\", force_remount=True).\n"
     ]
    }
   ],
   "source":[
    "try:\n",
    "    from google.colab import drive\n",
    "    drive.mount('/content/gdrive')\n",
    "    import os\n",
    "    os.chdir(\"/content/gdrive/My Drive/Colab Notebooks/ml_music/music\")\n",
    "except ImportError:\n",
    "    print(\"Not in colab.\")"
   ]
  },
  {
   "cell_type":"code",
   "execution_count":2,
   "metadata":{
    "colab":{
     "base_uri":"https://localhost:8080/",
     "height":102
    },
    "colab_type":"code",
    "executionInfo":{
     "elapsed":37091,
     "status":"ok",
     "timestamp":1546404078075,
     "user":{
      "displayName":"Mei Takahashi",
      "photoUrl":"",
      "userId":"02251372869210776306"
     },
     "user_tz":-540
    },
    "id":"BHLh_kOoMAQo",
    "outputId":"691d4b44-77d4-46b2-804f-0f63d81a6941"
   },
   "outputs":[
    {
     "name":"stdout",
     "output_type":"stream",
     "text":[
      "170\n",
      "False\n",
      "\n",
      "[30.  0. 10.  2. 22. 32.  6. 20.  0. 28. 20.  0.]\n"
     ]
    },
    {
     "data":{
      "text/plain":[
       "0"
      ]
     },
     "execution_count":2,
     "metadata":{
      "tags":[]
     },
     "output_type":"execute_result"
    }
   ],
   "source":[
    "import pretty_midi as pm\n",
    "import scipy\n",
    "import os\n",
    "import matplotlib.pyplot as plt\n",
    "import glob\n",
    "import numpy as np\n",
    "import tensorflow as tf\n",
    "tf.enable_eager_execution()\n",
    "\n",
    "\n",
    "if not os.getcwd().endswith(\"/music\"):\n",
    "    os.chdir(\"music\")\n",
    "\n",
    "# infにmidiを読み込む\n",
    "inf = pm.PrettyMIDI('example.mid')\n",
    "inf.instruments\n",
    "\n",
    "#中身の確認\n",
    "x = inf.instruments[0]\n",
    "print(len(x.notes))\n",
    "print(x.is_drum)\n",
    "print(x.name)\n",
    "print(x.get_pitch_class_histogram())\n",
    "\n",
    "x.program"
   ]
  },
  {
   "cell_type":"code",
   "execution_count":3,
   "metadata":{
    "colab":{
     "base_uri":"https://localhost:8080/",
     "height":590
    },
    "colab_type":"code",
    "executionInfo":{
     "elapsed":38029,
     "status":"ok",
     "timestamp":1546404079033,
     "user":{
      "displayName":"Mei Takahashi",
      "photoUrl":"",
      "userId":"02251372869210776306"
     },
     "user_tz":-540
    },
    "id":"SXec2wwwa4n2",
    "outputId":"e0061cf9-e965-4c69-d9cd-0b390d5e4c00"
   },
   "outputs":[
    {
     "name":"stdout",
     "output_type":"stream",
     "text":[
      "Tempo: 155.833489\n",
      "(128, 72)\n"
     ]
    },
    {
     "data":{
      "text/plain":[
       "<matplotlib.image.AxesImage at 0x7f8bce3fd710>"
      ]
     },
     "execution_count":3,
     "metadata":{
      "tags":[]
     },
     "output_type":"execute_result"
    },
    {
     "data":{
      "image/png":"[encoded data removed]",
      "text/plain":[
       "<matplotlib.figure.Figure at 0x7f8bce3f00d0>"
      ]
     },
     "metadata":{
      "tags":[]
     },
     "output_type":"display_data"
    }
   ],
   "source":[
    "# ドラムを使わない。音符の多い8つのトラック(intrument)に限定\n",
    "def IsolateMelody(dat):\n",
    "  interesting = [i for i in dat.instruments if lambda i: len(i.notes)>0 and not i.is_drum]\n",
    "  interesting = sorted(interesting, reverse=True, key=lambda i: len(i.notes))\n",
    "  return interesting[0:8]\n",
    "\n",
    "# 8つのトラックを1つ目に全部入れる。\n",
    "def MergeInstruments(insts):\n",
    "  out = insts[0]\n",
    "  out.name = \"merged\"\n",
    "  for inst in insts[1:]:\n",
    "    out.notes += inst.notes\n",
    "  return out\n",
    "\n",
    "inf = pm.PrettyMIDI('example.mid')\n",
    "out = pm.PrettyMIDI()\n",
    "out.instruments = [MergeInstruments(IsolateMelody(inf))]\n",
    "out.write(\"testout.mid\")\n",
    "print(\"Tempo: %f\" % out.estimate_tempo())\n",
    "pr = out.get_piano_roll(fs=out.estimate_tempo()/60/2)\n",
    "#pr = out.get_chroma(times=out.get_beats())\n",
    "print(pr.shape)\n",
    "\n",
    "fig = plt.figure(figsize=(14, 9))\n",
    "ax  = fig.add_subplot(1, 1, 1)\n",
    "plt.imshow(pr)"
   ]
  },
  {
   "cell_type":"code",
   "execution_count":4,
   "metadata":{
    "colab":{
     "base_uri":"https://localhost:8080/",
     "height":223
    },
    "colab_type":"code",
    "executionInfo":{
     "elapsed":38017,
     "status":"ok",
     "timestamp":1546404079042,
     "user":{
      "displayName":"Mei Takahashi",
      "photoUrl":"",
      "userId":"02251372869210776306"
     },
     "user_tz":-540
    },
    "id":"u743vxCE-p9E",
    "outputId":"19872978-91d6-403c-9e58-bf81d5c659e0"
   },
   "outputs":[
    {
     "data":{
      "image/png":"[encoded data removed]",
      "text/plain":[
       "<matplotlib.figure.Figure at 0x7f8bce3fd6d0>"
      ]
     },
     "metadata":{
      "tags":[]
     },
     "output_type":"display_data"
    }
   ],
   "source":[
    "def Datify(file):\n",
    "  md = pm.PrettyMIDI(file);\n",
    "  out = pm.PrettyMIDI()\n",
    "  out.instruments = [MergeInstruments(IsolateMelody(md))]\n",
    "  dat = {'src': file, 'midi': md, 'simplified': out}\n",
    "  dat['tempo'] = out.estimate_tempo()\n",
    "  dat['fs'] = out.estimate_tempo()/60*4\n",
    "  dat['frames'] = out.get_end_time() / dat['fs']\n",
    "  dat['pr'] = out.get_piano_roll(dat['fs'])\n",
    "  return dat\n",
    "\n",
    "def Sequify(file):\n",
    "  return Datify(file)['pr'];\n",
    "\n",
    "def ExpSeq(pr):\n",
    "  # We need to broadcast the image array such that it has a batch dimension\n",
    "  # https://github.com/tensorflow/models/blob/master/research/nst_blogpost/4_Neural_Style_Transfer_with_Eager_Execution.ipynb\n",
    "  return np.expand_dims(pr, axis=0)\n",
    "\n",
    "def SqSeq(pr):\n",
    "  return np.squeeze(pr, axis=0)\n",
    "\n",
    "def Pr(dat):\n",
    "  return dat['pr']\n",
    "\n",
    "def PlotPR(pr):\n",
    "  fig = plt.figure(figsize=(14, 9))\n",
    "  ax  = fig.add_subplot(1, 1, 1)\n",
    "  #img = SqSeq(pr)\n",
    "  img = pr\n",
    "  plt.imshow(img)\n",
    "\n",
    "PlotPR(Sequify(\"example.mid\"))"
   ]
  },
  {
   "cell_type":"code",
   "execution_count":0,
   "metadata":{
    "colab":{},
    "colab_type":"code",
    "id":"fO45Sr_DclWc"
   },
   "outputs":[],
   "source":[
    "if True:\n",
    "  corpus = [Datify(file) for file in sorted(glob.glob(\"liszt/*.mid\"))]"
   ]
  },
  {
   "cell_type":"code",
   "execution_count":11,
   "metadata":{
    "colab":{
     "base_uri":"https://localhost:8080/",
     "height":51
    },
    "colab_type":"code",
    "executionInfo":{
     "elapsed":9624,
     "status":"ok",
     "timestamp":1546404311005,
     "user":{
      "displayName":"Mei Takahashi",
      "photoUrl":"",
      "userId":"02251372869210776306"
     },
     "user_tz":-540
    },
    "id":"8EggFl8JOEZ3",
    "outputId":"8f81bda3-801e-4e4f-b409-b2196f9f7200"
   },
   "outputs":[
    {
     "name":"stdout",
     "output_type":"stream",
     "text":[
      "11\n",
      "(128, 13400)\n"
     ]
    }
   ],
   "source":[
    "print(len(corpus))\n",
    "print(corpus[0]['pr'].shape)"
   ]
  },
  {
   "cell_type":"code",
   "execution_count":0,
   "metadata":{
    "colab":{},
    "colab_type":"code",
    "id":"JFyJq4abWVl_"
   },
   "outputs":[],
   "source":[
    "# 学習して生成したpiano rollをmidi fileを元に戻す\n",
    "import pretty_midi\n",
    "def piano_roll_to_pretty_midi(piano_roll, fs=100.0, program=1):\n",
    "    '''Convert a Piano Roll array into a PrettyMidi object\n",
    "     with a single instrument.\n",
    "    Parameters\n",
    "    ----------\n",
    "    piano_roll : np.ndarray, shape=(128,frames), dtype=int\n",
    "        Piano roll of one instrument\n",
    "    fs : int\n",
    "        Sampling frequency of the columns, i.e. each column is spaced apart\n",
    "        by ``1./fs`` seconds.\n",
    "    program : int\n",
    "        The program number of the instrument.\n",
    "    Returns\n",
    "    -------\n",
    "    midi_object : pretty_midi.PrettyMIDI\n",
    "        A pretty_midi.PrettyMIDI class instance describing\n",
    "        the piano roll.\n",
    "    '''\n",
    "    notes, frames = piano_roll.shape\n",
    "    pm = pretty_midi.PrettyMIDI()\n",
    "    instrument = pretty_midi.Instrument(program=program)\n",
    "\n",
    "    # pad 1 column of zeros so we can acknowledge inital and ending events\n",
    "    piano_roll = np.pad(piano_roll, [(0, 0), (1, 1)], 'constant')\n",
    "\n",
    "    # use changes in velocities to find note on / note off events\n",
    "    velocity_changes = np.nonzero(np.abs(np.diff(piano_roll).T)>10) # 要素間の差分をとる\n",
    "\n",
    "    # keep track on velocities and note on times\n",
    "    prev_velocities = np.zeros(notes, dtype=int)\n",
    "    note_on_time = np.zeros(notes)\n",
    "\n",
    "    for time, note in zip(*velocity_changes):\n",
    "        # use time + 1 because of padding above\n",
    "        velocity = piano_roll[note, time + 1]\n",
    "        time = time / fs\n",
    "        if velocity > 20:\n",
    "            if prev_velocities[note] == 0:\n",
    "                note_on_time[note] = time\n",
    "                prev_velocities[note] = np.clip(velocity, 0, 127)\n",
    "        else:\n",
    "            pm_note = pretty_midi.Note(\n",
    "                velocity=prev_velocities[note],\n",
    "                pitch=note,\n",
    "                start=note_on_time[note],\n",
    "                end=time)\n",
    "            instrument.notes.append(pm_note)\n",
    "            prev_velocities[note] = 0\n",
    "    pm.instruments.append(instrument)\n",
    "    return pm"
   ]
  },
  {
   "cell_type":"code",
   "execution_count":13,
   "metadata":{
    "colab":{
     "base_uri":"https://localhost:8080/",
     "height":173
    },
    "colab_type":"code",
    "executionInfo":{
     "elapsed":17713,
     "status":"ok",
     "timestamp":1546404319126,
     "user":{
      "displayName":"Mei Takahashi",
      "photoUrl":"",
      "userId":"02251372869210776306"
     },
     "user_tz":-540
    },
    "id":"xX18D0PwcyHD",
    "outputId":"85bde45d-22e0-4654-d9a0-8c869ca72e3e"
   },
   "outputs":[
    {
     "name":"stdout",
     "output_type":"stream",
     "text":[
      "Wrote: liszt/liz_donjuan.mid @ 13.260349837994438\n",
      "{'pr': array([[0., 0., 0., ..., 0., 0., 0.],\n",
      "       [0., 0., 0., ..., 0., 0., 0.],\n",
      "       [0., 0., 0., ..., 0., 0., 0.],\n",
      "       ...,\n",
      "       [0., 0., 0., ..., 0., 0., 0.],\n",
      "       [0., 0., 0., ..., 0., 0., 0.],\n",
      "       [0., 0., 0., ..., 0., 0., 0.]]), 'src': 'liszt/liz_donjuan.mid', 'fs': 13.260349837994438, 'midi': <pretty_midi.pretty_midi.PrettyMIDI object at 0x7f8c0cf7ef90>, 'tempo': 198.90524756991658, 'simplified': <pretty_midi.pretty_midi.PrettyMIDI object at 0x7f8c0cf22410>, 'frames': 76.21065079688408}\n"
     ]
    }
   ],
   "source":[
    "# 前処理と後処理の確認。corp0-in.midがinput、corp0-simp.midが前処理後、corp0-conv.midが\n",
    "# corp0-simp.midを一度piano rollに変換した後midiファイルに戻したもの。\n",
    "np.savetxt(\"corp0.tsv\", corpus[0]['pr'], delimiter=\"\\t\")\n",
    "piano_roll_to_pretty_midi(corpus[0]['pr'], corpus[0]['fs']).write(\"corp0-conv.mid\")\n",
    "print(\"Wrote: %s @ %s\" % (corpus[0]['src'], corpus[0]['fs']))\n",
    "corpus[0]['midi'].write(\"corp0-in.mid\")\n",
    "corpus[0]['simplified'].write(\"corp0-simp.mid\")\n",
    "print(corpus[0])"
   ]
  },
  {
   "cell_type":"code",
   "execution_count":14,
   "metadata":{
    "colab":{
     "base_uri":"https://localhost:8080/",
     "height":349
    },
    "colab_type":"code",
    "executionInfo":{
     "elapsed":19053,
     "status":"ok",
     "timestamp":1546404320474,
     "user":{
      "displayName":"Mei Takahashi",
      "photoUrl":"",
      "userId":"02251372869210776306"
     },
     "user_tz":-540
    },
    "id":"hLwCr8gvmPZK",
    "outputId":"6a034775-0ca9-4b99-82d4-400946a058ec"
   },
   "outputs":[
    {
     "data":{
      "image/png":"[encoded data removed]",
      "text/plain":[
       "<matplotlib.figure.Figure at 0x7f8c0c070d50>"
      ]
     },
     "metadata":{
      "tags":[]
     },
     "output_type":"display_data"
    }
   ],
   "source":[
    "ex = corpus[0]['pr']\n",
    "\n",
    "#ref https://www.tensorflow.org/tutorials/sequences/text_generation\n",
    "\n",
    "seq_length = 100\n",
    "examples_per_epoch = ex.shape[1]\n",
    "pr_dataset = tf.data.Dataset.from_tensor_slices(tf.cast(ex.T, tf.float32)) #\"\".T\"は転置\n",
    "pr_dataset.output_shapes\n",
    "\n",
    "#for i in pr_dataset.take(5):\n",
    "#  print(i.numpy())\n",
    "#  print(i.numpy().shape)\n",
    "\n",
    "sequences = pr_dataset.batch(seq_length+1, drop_remainder=True)\n",
    "\n",
    "for item in sequences.take(3):\n",
    "  plt.imshow(item.numpy())"
   ]
  },
  {
   "cell_type":"code",
   "execution_count":15,
   "metadata":{
    "colab":{
     "base_uri":"https://localhost:8080/",
     "height":349
    },
    "colab_type":"code",
    "executionInfo":{
     "elapsed":19307,
     "status":"ok",
     "timestamp":1546404320742,
     "user":{
      "displayName":"Mei Takahashi",
      "photoUrl":"",
      "userId":"02251372869210776306"
     },
     "user_tz":-540
    },
    "id":"p3U3g4c75zWD",
    "outputId":"b3b48075-c5a1-4799-d71d-77ff1e757d7d"
   },
   "outputs":[
    {
     "data":{
      "image/png":"[encoded data removed]",
      "text/plain":[
       "<matplotlib.figure.Figure at 0x7f8bcb00a490>"
      ]
     },
     "metadata":{
      "tags":[]
     },
     "output_type":"display_data"
    }
   ],
   "source":[
    "def split_input_target(chunk):\n",
    "    input_text = chunk[:-1]\n",
    "    target_text = chunk[1:]\n",
    "    return input_text, target_text\n",
    "\n",
    "dataset = sequences.map(split_input_target)\n",
    "\n",
    "for item in sequences.take(3):\n",
    " plt.imshow(item.numpy())"
   ]
  },
  {
   "cell_type":"code",
   "execution_count":16,
   "metadata":{
    "colab":{
     "base_uri":"https://localhost:8080/",
     "height":34
    },
    "colab_type":"code",
    "executionInfo":{
     "elapsed":19302,
     "status":"ok",
     "timestamp":1546404320743,
     "user":{
      "displayName":"Mei Takahashi",
      "photoUrl":"",
      "userId":"02251372869210776306"
     },
     "user_tz":-540
    },
    "id":"IXuUU9_F5zWH",
    "outputId":"5b96fa84-835d-4a7b-f5ce-8aa24b34b09f"
   },
   "outputs":[
    {
     "data":{
      "text/plain":[
       "<BatchDataset shapes: ((64, 100, 128), (64, 100, 128)), types: (tf.float32, tf.float32)>"
      ]
     },
     "execution_count":16,
     "metadata":{
      "tags":[]
     },
     "output_type":"execute_result"
    }
   ],
   "source":[
    "BATCH_SIZE = 64\n",
    "steps_per_epoch = examples_per_epoch//BATCH_SIZE\n",
    "\n",
    "# Buffer size to shuffle the dataset\n",
    "# (TF data is designed to work with possibly infinite sequences, \n",
    "# so it doesn't attempt to shuffle the entire sequence in memory. Instead, \n",
    "# it maintains a buffer in which it shuffles elements).\n",
    "BUFFER_SIZE = 10000\n",
    "\n",
    "dataset = dataset.shuffle(BUFFER_SIZE).batch(BATCH_SIZE, drop_remainder=True)\n",
    "#ref https://www.tensorflow.org/api_docs/python/tf/contrib/data/batch_and_drop_remainder\n",
    "\n",
    "dataset"
   ]
  },
  {
   "cell_type":"code",
   "execution_count":89,
   "metadata":{
    "colab":{
     "base_uri":"https://localhost:8080/",
     "height":272
    },
    "colab_type":"code",
    "executionInfo":{
     "elapsed":1097,
     "status":"ok",
     "timestamp":1546406850730,
     "user":{
      "displayName":"Mei Takahashi",
      "photoUrl":"",
      "userId":"02251372869210776306"
     },
     "user_tz":-540
    },
    "id":"tAGIyDhT5zWM",
    "outputId":"bc7f31ad-1698-4ae8-c7d3-14373a06ecac"
   },
   "outputs":[
    {
     "name":"stdout",
     "output_type":"stream",
     "text":[
      "_________________________________________________________________\n",
      "Layer (type)                 Output Shape              Param #   \n",
      "=================================================================\n",
      "dense_14 (Dense)             (64, 100, 256)            33024     \n",
      "_________________________________________________________________\n",
      "cu_dnnlstm_5 (CuDNNLSTM)     (64, 100, 1024)           5251072   \n",
      "_________________________________________________________________\n",
      "dense_15 (Dense)             (64, 100, 128)            131200    \n",
      "=================================================================\n",
      "Total params: 5,415,296\n",
      "Trainable params: 5,415,296\n",
      "Non-trainable params: 0\n",
      "_________________________________________________________________\n",
      "<class 'tensorflow.python.keras.layers.cudnn_recurrent.CuDNNLSTM'>\n",
      "<class 'tensorflow.python.keras.layers.recurrent.LSTM'>\n"
     ]
    }
   ],
   "source":[
    "# The embedding dimension\n",
    "embedding_dim = 256\n",
    "# The number of notes in one column of piano roll.\n",
    "keys_dim = 128\n",
    "rnn_units = 1024\n",
    "\n",
    "if tf.test.is_gpu_available():\n",
    "  model_path = \"model_Lstm_gpu.h5\"\n",
    "  rnn = tf.keras.layers.CuDNNLSTM\n",
    "else:\n",
    "  model_path = \"model_lstm.h5\"\n",
    "  rnn =tf.keras.layers.LSTM\n",
    "\n",
    "def build_model(batch_size, seq_length):\n",
    "    return tf.keras.Sequential([\n",
    "        tf.keras.layers.Dense(\n",
    "            embedding_dim,\n",
    "            batch_input_shape=[batch_size, seq_length, keys_dim]),\n",
    "        rnn(\n",
    "            rnn_units,\n",
    "             return_sequences=True, \n",
    "             recurrent_initializer='glorot_uniform',\n",
    "             stateful=True),\n",
    "        tf.keras.layers.Dense(keys_dim),\n",
    "    ])\n",
    "\n",
    "model = build_model(BATCH_SIZE, seq_length)\n",
    "\n",
    "#保存済みモデルがあったら読み込む。\n",
    "if os.path.exists(model_path):\n",
    "    model.load_weights(model_path)\n",
    "\n",
    "model.compile(loss=\"mean_squared_error\", optimizer=tf.train.AdamOptimizer())\n",
    "model.summary()"
   ]
  },
  {
   "cell_type":"markdown",
   "metadata":{
    "colab_type":"text",
    "id":"bUlU5IuS5zWS"
   },
   "source":[
    "### Try the model"
   ]
  },
  {
   "cell_type":"code",
   "execution_count":69,
   "metadata":{
    "colab":{
     "base_uri":"https://localhost:8080/",
     "height":34
    },
    "colab_type":"code",
    "executionInfo":{
     "elapsed":751,
     "status":"ok",
     "timestamp":1546405812172,
     "user":{
      "displayName":"Mei Takahashi",
      "photoUrl":"",
      "userId":"02251372869210776306"
     },
     "user_tz":-540
    },
    "id":"gKgz8Ptj5zWT",
    "outputId":"4f3865de-54cb-4348-9bea-c5c14d441f4a"
   },
   "outputs":[
    {
     "name":"stdout",
     "output_type":"stream",
     "text":[
      "(TensorShape([Dimension(64), Dimension(100), Dimension(128)]), '# (batch_size, sequence_length, vocab_size)')\n"
     ]
    }
   ],
   "source":[
    "for input_example_batch, target_example_batch in dataset.take(1): \n",
    "  example_batch_predictions = model(input_example_batch)\n",
    "  print(example_batch_predictions.shape, \"# (batch_size, sequence_length, vocab_size)\")"
   ]
  },
  {
   "cell_type":"code",
   "execution_count":70,
   "metadata":{
    "colab":{
     "base_uri":"https://localhost:8080/",
     "height":366
    },
    "colab_type":"code",
    "executionInfo":{
     "elapsed":983,
     "status":"ok",
     "timestamp":1546405812425,
     "user":{
      "displayName":"Mei Takahashi",
      "photoUrl":"",
      "userId":"02251372869210776306"
     },
     "user_tz":-540
    },
    "id":"wXvGrOYY5zWW",
    "outputId":"4d3e4801-40fe-4144-f6a2-46c2046d138f"
   },
   "outputs":[
    {
     "data":{
      "text/plain":[
       "<matplotlib.image.AxesImage at 0x7f8bc8d21190>"
      ]
     },
     "execution_count":70,
     "metadata":{
      "tags":[]
     },
     "output_type":"execute_result"
    },
    {
     "data":{
      "image/png":"[encoded data removed]",
      "text/plain":[
       "<matplotlib.figure.Figure at 0x7f8bc94ea110>"
      ]
     },
     "metadata":{
      "tags":[]
     },
     "output_type":"display_data"
    }
   ],
   "source":[
    "plt.imshow(example_batch_predictions.numpy()[0])"
   ]
  },
  {
   "cell_type":"code",
   "execution_count":0,
   "metadata":{
    "colab":{},
    "colab_type":"code",
    "id":"UQ_JHL-m5zWc"
   },
   "outputs":[],
   "source":[
    "piano_roll_to_pretty_midi(example_batch_predictions.numpy()[0]).write(\"try-the-model.mid\")"
   ]
  },
  {
   "cell_type":"markdown",
   "metadata":{
    "colab_type":"text",
    "id":"-BMGrlkk5zWe"
   },
   "source":[
    "### Train the model"
   ]
  },
  {
   "cell_type":"code",
   "execution_count":72,
   "metadata":{
    "colab":{
     "base_uri":"https://localhost:8080/",
     "height":394
    },
    "colab_type":"code",
    "executionInfo":{
     "elapsed":388073,
     "status":"ok",
     "timestamp":1546406199547,
     "user":{
      "displayName":"Mei Takahashi",
      "photoUrl":"",
      "userId":"02251372869210776306"
     },
     "user_tz":-540
    },
    "id":"9tkJwQGI5zWh",
    "outputId":"1973952c-ea1e-44c1-b789-1f50bdefd572"
   },
   "outputs":[
    {
     "name":"stdout",
     "output_type":"stream",
     "text":[
      "Epoch 1/10\n",
      "209/209 [==============================] - 39s 185ms/step - loss: 8.1347\n",
      "Epoch 2/10\n",
      "209/209 [==============================] - 39s 185ms/step - loss: 5.3755\n",
      "Epoch 3/10\n",
      "209/209 [==============================] - 39s 185ms/step - loss: 3.8034\n",
      "Epoch 4/10\n",
      "209/209 [==============================] - 39s 185ms/step - loss: 2.8430\n",
      "Epoch 5/10\n",
      "209/209 [==============================] - 39s 185ms/step - loss: 2.2035\n",
      "Epoch 6/10\n",
      "209/209 [==============================] - 39s 185ms/step - loss: 1.8333\n",
      "Epoch 7/10\n",
      "209/209 [==============================] - 39s 185ms/step - loss: 1.5412\n",
      "Epoch 8/10\n",
      "209/209 [==============================] - 39s 185ms/step - loss: 1.3198\n",
      "Epoch 9/10\n",
      "209/209 [==============================] - 39s 185ms/step - loss: 1.1455\n",
      "Epoch 10/10\n",
      "209/209 [==============================] - 39s 185ms/step - loss: 1.2479\n",
      "WARNING:tensorflow:TensorFlow optimizers do not make it possible to access optimizer attributes or optimizer state after instantiation. As a result, we cannot save the optimizer as part of the model save file.You will have to compile your model again after loading it. Prefer using a Keras optimizer instead (see keras.io/optimizers).\n"
     ]
    }
   ],
   "source":[
    "model.fit(dataset.repeat(), epochs=10, steps_per_epoch=steps_per_epoch)\n",
    "model.save(model_path)"
   ]
  },
  {
   "cell_type":"code",
   "execution_count":73,
   "metadata":{
    "colab":{
     "base_uri":"https://localhost:8080/",
     "height":349
    },
    "colab_type":"code",
    "executionInfo":{
     "elapsed":388290,
     "status":"ok",
     "timestamp":1546406199774,
     "user":{
      "displayName":"Mei Takahashi",
      "photoUrl":"",
      "userId":"02251372869210776306"
     },
     "user_tz":-540
    },
    "id":"BJiwTTLK5zWj",
    "outputId":"2a39b09c-9dc4-4193-b867-f93fdb8cad36"
   },
   "outputs":[
    {
     "data":{
      "image/png":"[encoded data removed]",
      "text/plain":[
       "<matplotlib.figure.Figure at 0x7f8bc9412990>"
      ]
     },
     "metadata":{
      "tags":[]
     },
     "output_type":"display_data"
    }
   ],
   "source":[
    "for input_example_batch, target_example_batch in dataset.take(1): \n",
    "    plt.imshow(target_example_batch.numpy()[0])\n",
    "    piano_roll_to_pretty_midi(target_example_batch.numpy()[0].T).write(\"train-the-model-target.mid\")\n",
    "    example_batch_predictions_2 = model(input_example_batch)"
   ]
  },
  {
   "cell_type":"code",
   "execution_count":74,
   "metadata":{
    "colab":{
     "base_uri":"https://localhost:8080/",
     "height":366
    },
    "colab_type":"code",
    "executionInfo":{
     "elapsed":388568,
     "status":"ok",
     "timestamp":1546406200064,
     "user":{
      "displayName":"Mei Takahashi",
      "photoUrl":"",
      "userId":"02251372869210776306"
     },
     "user_tz":-540
    },
    "id":"fFPUyyyM5zWn",
    "outputId":"45864c9d-3469-4de8-9901-8ef722493e17"
   },
   "outputs":[
    {
     "data":{
      "text/plain":[
       "<matplotlib.image.AxesImage at 0x7f8bc8bb0590>"
      ]
     },
     "execution_count":74,
     "metadata":{
      "tags":[]
     },
     "output_type":"execute_result"
    },
    {
     "data":{
      "image/png":"[encoded data removed]",
      "text/plain":[
       "<matplotlib.figure.Figure at 0x7f8bc8c0ac10>"
      ]
     },
     "metadata":{
      "tags":[]
     },
     "output_type":"display_data"
    }
   ],
   "source":[
    "piano_roll_to_pretty_midi(example_batch_predictions_2.numpy()[0].T).write(\"train-the-model.mid\")\n",
    "plt.imshow(example_batch_predictions_2.numpy()[0])"
   ]
  },
  {
   "cell_type":"code",
   "execution_count":75,
   "metadata":{
    "colab":{
     "base_uri":"https://localhost:8080/",
     "height":408
    },
    "colab_type":"code",
    "executionInfo":{
     "elapsed":388553,
     "status":"ok",
     "timestamp":1546406200064,
     "user":{
      "displayName":"Mei Takahashi",
      "photoUrl":"",
      "userId":"02251372869210776306"
     },
     "user_tz":-540
    },
    "id":"1QMtglFu5zWs",
    "outputId":"ea2f1e60-fc65-4be9-89e5-add2341b2aa3"
   },
   "outputs":[
    {
     "name":"stdout",
     "output_type":"stream",
     "text":[
      "(array([ 0,  0,  0,  1,  1,  2,  3,  3,  3,  3,  4,  5,  5,  5,  5,  6,  7,\n",
      "        8,  9,  9, 10, 11, 11, 12, 13, 13, 14, 16, 16, 17, 18, 18, 19, 20,\n",
      "       21, 21, 22, 23, 23, 25, 26, 26, 27, 28, 28, 29, 30, 30, 31, 32, 32,\n",
      "       33, 34, 34, 35, 36, 36, 37, 38, 38, 39, 40, 40, 41, 42, 42, 43, 44,\n",
      "       44, 45, 46, 46, 47, 48, 48, 49, 51, 51, 52, 53, 53, 54, 55, 55, 56,\n",
      "       57, 57, 58, 59, 59, 61, 62, 62, 62, 63, 64, 64, 66, 67, 67, 67, 67,\n",
      "       68, 68, 69, 69, 71, 71, 72, 72, 73, 73, 74, 74, 76, 76, 77, 77, 78,\n",
      "       78, 79, 79, 81, 81, 82, 82, 82, 82, 82, 83, 83, 84, 84, 84, 85, 85,\n",
      "       86, 86, 87, 87, 88, 88, 89, 89, 90, 90, 90, 90, 91, 91, 92, 92, 93,\n",
      "       93, 93, 93, 94, 94, 94, 95, 96, 96, 96, 96, 97, 97, 98, 98, 98, 98]), array([ 66,  69,  84,  70,  78,  66,  63,  70,  71,  78,  66,  63,  70,\n",
      "        71,  78,  66,  70,  66,  70,  71,  66,  70,  71,  66,  70,  71,\n",
      "        66,  70,  71,  66,  69,  71,  71,  65,  69,  71,  65,  69,  71,\n",
      "        65,  69,  71,  65,  69,  71,  65,  69,  71,  65,  69,  71,  65,\n",
      "        69,  71,  65,  69,  71,  65,  69,  71,  65,  69,  71,  65,  69,\n",
      "        71,  65,  69,  71,  65,  69,  71,  65,  69,  71,  65,  69,  71,\n",
      "        65,  69,  71,  65,  69,  71,  65,  69,  71,  65,  69,  71,  65,\n",
      "        64,  69,  71,  65,  69,  71,  65,  64,  68,  74,  76,  65,  69,\n",
      "        66,  70,  67,  71,  68,  72,  69,  73,  70,  74,  71,  75,  72,\n",
      "        76,  73,  77,  74,  78,  75,  79,  76,  80,  81,  86,  88,  77,\n",
      "        81,  70,  78,  82,  79,  83,  80,  84,  80,  86,  81,  85,  82,\n",
      "        86,  43,  46,  83,  87,  84,  88,  85,  89,  56,  64,  86,  90,\n",
      "        83,  87,  91,  88,  88,  92,  98, 100,  90,  93,  89,  91,  94,\n",
      "       101]))\n"
     ]
    }
   ],
   "source":[
    "print(np.where((np.diff(example_batch_predictions_2.numpy()[0].T).T)>10))"
   ]
  },
  {
   "cell_type":"code",
   "execution_count":0,
   "metadata":{
    "colab":{},
    "colab_type":"code",
    "id":"ZA3s0iWt5zWv"
   },
   "outputs":[],
   "source":[
    "# 学習して生成したpiano rollをmidi fileを元に戻す\n",
    "import pretty_midi\n",
    "def piano_roll_to_pretty_midi(piano_roll, fs=100.0, program=1):\n",
    "    '''Convert a Piano Roll array into a PrettyMidi object\n",
    "     with a single instrument.\n",
    "    Parameters\n",
    "    ----------\n",
    "    piano_roll : np.ndarray, shape=(128,frames), dtype=int\n",
    "        Piano roll of one instrument\n",
    "    fs : int\n",
    "        Sampling frequency of the columns, i.e. each column is spaced apart\n",
    "        by ``1./fs`` seconds.\n",
    "    program : int\n",
    "        The program number of the instrument.\n",
    "    Returns\n",
    "    -------\n",
    "    midi_object : pretty_midi.PrettyMIDI\n",
    "        A pretty_midi.PrettyMIDI class instance describing\n",
    "        the piano roll.\n",
    "    '''\n",
    "    notes, frames = piano_roll.shape\n",
    "    pm = pretty_midi.PrettyMIDI()\n",
    "    instrument = pretty_midi.Instrument(program=program)\n",
    "\n",
    "    # pad 1 column of zeros so we can acknowledge inital and ending events\n",
    "    piano_roll = np.pad(piano_roll, [(0, 0), (1, 1)], 'constant')\n",
    "\n",
    "    # use changes in velocities to find note on / note off events\n",
    "    velocity_changes = np.nonzero(np.abs(np.diff(piano_roll).T)>10) # 要素間の差分をとる\n",
    "\n",
    "    # keep track on velocities and note on times\n",
    "    prev_velocities = np.zeros(notes, dtype=int)\n",
    "    note_on_time = np.zeros(notes)\n",
    "\n",
    "    for time, note in zip(*velocity_changes):\n",
    "        # use time + 1 because of padding above\n",
    "        velocity = piano_roll[note, time + 1]\n",
    "        time = time / fs\n",
    "        if velocity > 20:\n",
    "            if prev_velocities[note] == 0:\n",
    "                note_on_time[note] = time\n",
    "                prev_velocities[note] = np.clip(velocity, 0, 127)\n",
    "        else:\n",
    "            pm_note = pretty_midi.Note(\n",
    "                velocity=prev_velocities[note],\n",
    "                pitch=note,\n",
    "                start=note_on_time[note],\n",
    "                end=time)\n",
    "            instrument.notes.append(pm_note)\n",
    "            prev_velocities[note] = 0\n",
    "    pm.instruments.append(instrument)\n",
    "    return pm"
   ]
  },
  {
   "cell_type":"code",
   "execution_count":77,
   "metadata":{
    "colab":{
     "base_uri":"https://localhost:8080/",
     "height":366
    },
    "colab_type":"code",
    "executionInfo":{
     "elapsed":388744,
     "status":"ok",
     "timestamp":1546406200290,
     "user":{
      "displayName":"Mei Takahashi",
      "photoUrl":"",
      "userId":"02251372869210776306"
     },
     "user_tz":-540
    },
    "id":"pWkTJUi45zWz",
    "outputId":"5c8da5e4-fd6b-4263-bd43-6cde0191538f"
   },
   "outputs":[
    {
     "data":{
      "text/plain":[
       "<matplotlib.image.AxesImage at 0x7f8bc8b25750>"
      ]
     },
     "execution_count":77,
     "metadata":{
      "tags":[]
     },
     "output_type":"execute_result"
    },
    {
     "data":{
      "image/png":"[encoded data removed]",
      "text/plain":[
       "<matplotlib.figure.Figure at 0x7f8bc90ddd50>"
      ]
     },
     "metadata":{
      "tags":[]
     },
     "output_type":"display_data"
    }
   ],
   "source":[
    "plt.imshow(piano_roll_to_pretty_midi(target_example_batch.numpy()[0].T).get_piano_roll().T)"
   ]
  },
  {
   "cell_type":"code",
   "execution_count":78,
   "metadata":{
    "colab":{
     "base_uri":"https://localhost:8080/",
     "height":366
    },
    "colab_type":"code",
    "executionInfo":{
     "elapsed":389008,
     "status":"ok",
     "timestamp":1546406200565,
     "user":{
      "displayName":"Mei Takahashi",
      "photoUrl":"",
      "userId":"02251372869210776306"
     },
     "user_tz":-540
    },
    "id":"yHr_I_Qt5zW5",
    "outputId":"f26d35d0-ca81-4bae-8f4f-70d12acc52f2"
   },
   "outputs":[
    {
     "data":{
      "text/plain":[
       "<matplotlib.image.AxesImage at 0x7f8bc8a98990>"
      ]
     },
     "execution_count":78,
     "metadata":{
      "tags":[]
     },
     "output_type":"execute_result"
    },
    {
     "data":{
      "image/png":"[encoded data removed]",
      "text/plain":[
       "<matplotlib.figure.Figure at 0x7f8bc8b3d950>"
      ]
     },
     "metadata":{
      "tags":[]
     },
     "output_type":"display_data"
    }
   ],
   "source":[
    "plt.imshow(piano_roll_to_pretty_midi(example_batch_predictions_2.numpy()[0].T).get_piano_roll().T)"
   ]
  },
  {
   "cell_type":"code",
   "execution_count":79,
   "metadata":{
    "colab":{
     "base_uri":"https://localhost:8080/",
     "height":71
    },
    "colab_type":"code",
    "executionInfo":{
     "elapsed":389366,
     "status":"ok",
     "timestamp":1546406200936,
     "user":{
      "displayName":"Mei Takahashi",
      "photoUrl":"",
      "userId":"02251372869210776306"
     },
     "user_tz":-540
    },
    "id":"r02xNj1l5zW8",
    "outputId":"d5ce3257-ba68-4b50-8028-51e7a7b2ff10"
   },
   "outputs":[
    {
     "data":{
      "text/plain":[
       "<matplotlib.image.AxesImage at 0x7f8bc8a09c50>"
      ]
     },
     "execution_count":79,
     "metadata":{
      "tags":[]
     },
     "output_type":"execute_result"
    },
    {
     "data":{
      "image/png":"[encoded data removed]",
      "text/plain":[
       "<matplotlib.figure.Figure at 0x7f8bc8a88250>"
      ]
     },
     "metadata":{
      "tags":[]
     },
     "output_type":"display_data"
    }
   ],
   "source":[
    "plt.imshow(np.nonzero(np.diff(target_example_batch.numpy()[0], axis = 0)))"
   ]
  },
  {
   "cell_type":"markdown",
   "metadata":{
    "colab_type":"text",
    "id":"F4kNQm4J5zXB"
   },
   "source":[
    "### Generate Music"
   ]
  },
  {
   "cell_type":"code",
   "execution_count":80,
   "metadata":{
    "colab":{
     "base_uri":"https://localhost:8080/",
     "height":238
    },
    "colab_type":"code",
    "executionInfo":{
     "elapsed":389351,
     "status":"ok",
     "timestamp":1546406200937,
     "user":{
      "displayName":"Mei Takahashi",
      "photoUrl":"",
      "userId":"02251372869210776306"
     },
     "user_tz":-540
    },
    "id":"w-9ELWbG5zXC",
    "outputId":"474115fc-fe5c-4ddb-eb2c-9c70c8044d14"
   },
   "outputs":[
    {
     "name":"stdout",
     "output_type":"stream",
     "text":[
      "_________________________________________________________________\n",
      "Layer (type)                 Output Shape              Param #   \n",
      "=================================================================\n",
      "dense_12 (Dense)             (1, None, 256)            33024     \n",
      "_________________________________________________________________\n",
      "cu_dnnlstm_4 (CuDNNLSTM)     (1, None, 1024)           5251072   \n",
      "_________________________________________________________________\n",
      "dense_13 (Dense)             (1, None, 128)            131200    \n",
      "=================================================================\n",
      "Total params: 5,415,296\n",
      "Trainable params: 5,415,296\n",
      "Non-trainable params: 0\n",
      "_________________________________________________________________\n"
     ]
    }
   ],
   "source":[
    "model = build_model(1, None)\n",
    "model.load_weights(model_path)\n",
    "model.build(tf.TensorShape([1, None, keys_dim]))\n",
    "model.summary()"
   ]
  },
  {
   "cell_type":"code",
   "execution_count":81,
   "metadata":{
    "colab":{
     "base_uri":"https://localhost:8080/",
     "height":368
    },
    "colab_type":"code",
    "executionInfo":{
     "elapsed":389597,
     "status":"ok",
     "timestamp":1546406201191,
     "user":{
      "displayName":"Mei Takahashi",
      "photoUrl":"",
      "userId":"02251372869210776306"
     },
     "user_tz":-540
    },
    "id":"qClJDH0U5zXF",
    "outputId":"20e8dffc-55fc-45f8-d6cf-58fa87154953"
   },
   "outputs":[
    {
     "data":{
      "text/plain":[
       "<matplotlib.image.AxesImage at 0x7f8bc898a550>"
      ]
     },
     "execution_count":81,
     "metadata":{
      "tags":[]
     },
     "output_type":"execute_result"
    },
    {
     "data":{
      "image/png":"[encoded data removed]",
      "text/plain":[
       "<matplotlib.figure.Figure at 0x7f8bc8a65190>"
      ]
     },
     "metadata":{
      "tags":[]
     },
     "output_type":"display_data"
    }
   ],
   "source":[
    "# Number of  notes to generate\n",
    "num_generate = 1000\n",
    "\n",
    "# Buffer for output\n",
    "result = np.zeros([num_generate+1, keys_dim], dtype=np.float32)\n",
    "plt.imshow(result)"
   ]
  },
  {
   "cell_type":"code",
   "execution_count":82,
   "metadata":{
    "colab":{
     "base_uri":"https://localhost:8080/",
     "height":34
    },
    "colab_type":"code",
    "executionInfo":{
     "elapsed":389586,
     "status":"ok",
     "timestamp":1546406201191,
     "user":{
      "displayName":"Mei Takahashi",
      "photoUrl":"",
      "userId":"02251372869210776306"
     },
     "user_tz":-540
    },
    "id":"Q3a3O0IC5zXJ",
    "outputId":"e5771fb1-a207-45f7-8802-498d80525203"
   },
   "outputs":[
    {
     "data":{
      "text/plain":[
       "TensorShape([Dimension(1), Dimension(1), Dimension(128)])"
      ]
     },
     "execution_count":82,
     "metadata":{
      "tags":[]
     },
     "output_type":"execute_result"
    }
   ],
   "source":[
    "# Make first inout\n",
    "input_eval = tf.expand_dims(result[0:1], 0)\n",
    "input_eval.shape"
   ]
  },
  {
   "cell_type":"code",
   "execution_count":83,
   "metadata":{
    "colab":{
     "base_uri":"https://localhost:8080/",
     "height":72
    },
    "colab_type":"code",
    "executionInfo":{
     "elapsed":389569,
     "status":"ok",
     "timestamp":1546406201192,
     "user":{
      "displayName":"Mei Takahashi",
      "photoUrl":"",
      "userId":"02251372869210776306"
     },
     "user_tz":-540
    },
    "id":"7QNmpECD5zXR",
    "outputId":"4db09272-7ce5-4742-8409-f51f30f02d1a"
   },
   "outputs":[
    {
     "data":{
      "text/plain":[
       "<matplotlib.image.AxesImage at 0x7f8bc8971550>"
      ]
     },
     "execution_count":83,
     "metadata":{
      "tags":[]
     },
     "output_type":"execute_result"
    },
    {
     "data":{
      "image/png":"[encoded data removed]",
      "text/plain":[
       "<matplotlib.figure.Figure at 0x7f8bc89e4250>"
      ]
     },
     "metadata":{
      "tags":[]
     },
     "output_type":"display_data"
    }
   ],
   "source":[
    "# Try to generate first\n",
    "model.reset_states()\n",
    "predictions = model(input_eval)\n",
    "predictions = tf.squeeze(predictions, 0)\n",
    "result[1] = predictions\n",
    "plt.imshow(predictions)"
   ]
  },
  {
   "cell_type":"code",
   "execution_count":84,
   "metadata":{
    "colab":{
     "base_uri":"https://localhost:8080/",
     "height":72
    },
    "colab_type":"code",
    "executionInfo":{
     "elapsed":389815,
     "status":"ok",
     "timestamp":1546406201449,
     "user":{
      "displayName":"Mei Takahashi",
      "photoUrl":"",
      "userId":"02251372869210776306"
     },
     "user_tz":-540
    },
    "id":"4SuwT0Cs5zXV",
    "outputId":"89d18ae7-ea36-4d8c-a1de-51f83c3a28bf"
   },
   "outputs":[
    {
     "data":{
      "text/plain":[
       "<matplotlib.image.AxesImage at 0x7f8bc88d9a90>"
      ]
     },
     "execution_count":84,
     "metadata":{
      "tags":[]
     },
     "output_type":"execute_result"
    },
    {
     "data":{
      "image/png":"[encoded data removed]",
      "text/plain":[
       "<matplotlib.figure.Figure at 0x7f8bc89b5b10>"
      ]
     },
     "metadata":{
      "tags":[]
     },
     "output_type":"display_data"
    }
   ],
   "source":[
    "# Initialize first keys randomly\n",
    "for i in range(10):\n",
    "    key = int(np.clip(np.random.normal(keys_dim/2, keys_dim/4), 0, keys_dim - 1))\n",
    "    result[0][key] = 100\n",
    "    \n",
    "plt.imshow(result[0:1])"
   ]
  },
  {
   "cell_type":"code",
   "execution_count":85,
   "metadata":{
    "colab":{
     "base_uri":"https://localhost:8080/",
     "height":126
    },
    "colab_type":"code",
    "executionInfo":{
     "elapsed":390136,
     "status":"ok",
     "timestamp":1546406201785,
     "user":{
      "displayName":"Mei Takahashi",
      "photoUrl":"",
      "userId":"02251372869210776306"
     },
     "user_tz":-540
    },
    "id":"T2Jwxf455zXc",
    "outputId":"de31e669-dc0a-4c1a-e8f4-bc7ae868db7d"
   },
   "outputs":[
    {
     "data":{
      "text/plain":[
       "<matplotlib.image.AxesImage at 0x7f8bc88448d0>"
      ]
     },
     "execution_count":85,
     "metadata":{
      "tags":[]
     },
     "output_type":"execute_result"
    },
    {
     "data":{
      "image/png":"[encoded data removed]",
      "text/plain":[
       "<matplotlib.figure.Figure at 0x7f8bc9000710>"
      ]
     },
     "metadata":{
      "tags":[]
     },
     "output_type":"display_data"
    }
   ],
   "source":[
    "# Use randomly training data\n",
    "intro = list(dataset.take(1))[0][0][0]\n",
    "intro_length = intro.shape[0]\n",
    "result[0 : intro_length] = intro\n",
    "plt.imshow(result.T)"
   ]
  },
  {
   "cell_type":"code",
   "execution_count":86,
   "metadata":{
    "colab":{
     "base_uri":"https://localhost:8080/",
     "height":126
    },
    "colab_type":"code",
    "executionInfo":{
     "elapsed":396309,
     "status":"ok",
     "timestamp":1546406207965,
     "user":{
      "displayName":"Mei Takahashi",
      "photoUrl":"",
      "userId":"02251372869210776306"
     },
     "user_tz":-540
    },
    "id":"hVZtxtai5zXk",
    "outputId":"a9831475-e3aa-460a-d403-f044b112b6b9"
   },
   "outputs":[
    {
     "data":{
      "text/plain":[
       "<matplotlib.image.AxesImage at 0x7f8bc882ca90>"
      ]
     },
     "execution_count":86,
     "metadata":{
      "tags":[]
     },
     "output_type":"execute_result"
    },
    {
     "data":{
      "image/png":"[encoded data removed]",
      "text/plain":[
       "<matplotlib.figure.Figure at 0x7f8bc893edd0>"
      ]
     },
     "metadata":{
      "tags":[]
     },
     "output_type":"display_data"
    }
   ],
   "source":[
    "# Generate all\n",
    "model.reset_states()\n",
    "for i in range(num_generate):\n",
    "    input_eval = tf.expand_dims(result[ i : i + 1], 0)\n",
    "    predictions = model(input_eval)\n",
    "    if i > intro_length - 2:\n",
    "        result[ i + 1] = tf.squeeze(predictions, 0)\n",
    "\n",
    "plt.imshow(result.T)"
   ]
  },
  {
   "cell_type":"code",
   "execution_count":87,
   "metadata":{
    "colab":{
     "base_uri":"https://localhost:8080/",
     "height":126
    },
    "colab_type":"code",
    "executionInfo":{
     "elapsed":396893,
     "status":"ok",
     "timestamp":1546406208558,
     "user":{
      "displayName":"Mei Takahashi",
      "photoUrl":"",
      "userId":"02251372869210776306"
     },
     "user_tz":-540
    },
    "id":"jzUqHo1N5zXo",
    "outputId":"3bee509e-d3b4-408c-887f-4ecc65ed3271"
   },
   "outputs":[
    {
     "data":{
      "text/plain":[
       "<matplotlib.image.AxesImage at 0x7f8bc12b2050>"
      ]
     },
     "execution_count":87,
     "metadata":{
      "tags":[]
     },
     "output_type":"execute_result"
    },
    {
     "data":{
      "image/png":"[encoded data removed]",
      "text/plain":[
       "<matplotlib.figure.Figure at 0x7f8bc8e9b550>"
      ]
     },
     "metadata":{
      "tags":[]
     },
     "output_type":"display_data"
    }
   ],
   "source":[
    "result_midi = piano_roll_to_pretty_midi(result.T)\n",
    "result_midi.write(\"result.midi\")\n",
    "plt.imshow(result_midi.get_piano_roll())"
   ]
  }
 ],
 "metadata":{
  "accelerator":"GPU",
  "colab":{
   "collapsed_sections":[],
   "name":"music-playground.edit.ipynb",
   "provenance":[],
   "version":"0.3.2"
  },
  "kernelspec":{
   "display_name":"Python 2",
   "name":"python2"
  }
 },
 "nbformat":4,
 "nbformat_minor":0
}
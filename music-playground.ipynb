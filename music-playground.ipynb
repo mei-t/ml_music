{
 "cells":[
  {
   "cell_type":"code",
   "execution_count":0,
   "metadata":{
    "colab":{
     "base_uri":"https://localhost:8080/",
     "height":34
    },
    "colab_type":"code",
    "executionInfo":{
     "elapsed":559,
     "status":"ok",
     "timestamp":1546178762042,
     "user":{
      "displayName":"Nobuki Yoda",
      "photoUrl":"https://lh5.googleusercontent.com/-MDL8GrMcdx4/AAAAAAAAAAI/AAAAAAAAL4Q/lXYgU0Xn5Cs/s64/photo.jpg",
      "userId":"10400427038476009535"
     },
     "user_tz":-540
    },
    "id":"z8KBptYi6jSg",
    "outputId":"81f67b07-51ad-4e44-c79d-e288d2ca1081"
   },
   "outputs":[
    {
     "name":"stdout",
     "output_type":"stream",
     "text":[
      "Drive already mounted at /content/gdrive; to attempt to forcibly remount, call drive.mount(\"/content/gdrive\", force_remount=True).\n"
     ]
    }
   ],
   "source":[
    "try:\n",
    "    from google.colab import drive\n",
    "    drive.mount('/content/gdrive')\n",
    "    import os\n",
    "    os.chdir(\"/content/gdrive/My Drive/Colab Notebooks/ml_music/music\")\n",
    "except ImportError:\n",
    "    print(\"Not in colab.\")"
   ]
  },
  {
   "cell_type":"code",
   "execution_count":40,
   "metadata":{
    "colab":{
     "base_uri":"https://localhost:8080/",
     "height":102
    },
    "colab_type":"code",
    "executionInfo":{
     "elapsed":545,
     "status":"ok",
     "timestamp":1546178829520,
     "user":{
      "displayName":"Nobuki Yoda",
      "photoUrl":"https://lh5.googleusercontent.com/-MDL8GrMcdx4/AAAAAAAAAAI/AAAAAAAAL4Q/lXYgU0Xn5Cs/s64/photo.jpg",
      "userId":"10400427038476009535"
     },
     "user_tz":-540
    },
    "id":"BHLh_kOoMAQo",
    "outputId":"4d32c9a6-ddff-408b-d824-77bbf512304d"
   },
   "outputs":[
    {
     "name":"stdout",
     "output_type":"stream",
     "text":[
      "170\n",
      "False\n",
      "\n",
      "[30.  0. 10.  2. 22. 32.  6. 20.  0. 28. 20.  0.]\n"
     ]
    },
    {
     "data":{
      "text/plain":[
       "0"
      ]
     },
     "execution_count":40,
     "metadata":{
      "tags":[]
     },
     "output_type":"execute_result"
    }
   ],
   "source":[
    "import pretty_midi as pm\n",
    "import scipy\n",
    "import os\n",
    "import matplotlib.pyplot as plt\n",
    "import glob\n",
    "import numpy as np\n",
    "import tensorflow as tf\n",
    "tf.enable_eager_execution()\n",
    "\n",
    "\n",
    "if not os.getcwd().endswith(\"/music\"):\n",
    "    os.chdir(\"music\")\n",
    "\n",
    "# infにmidiを読み込む\n",
    "inf = pm.PrettyMIDI('example.mid')\n",
    "inf.instruments\n",
    "\n",
    "#中身の確認\n",
    "x = inf.instruments[0]\n",
    "print(len(x.notes))\n",
    "print(x.is_drum)\n",
    "print(x.name)\n",
    "print(x.get_pitch_class_histogram())\n",
    "\n",
    "x.program"
   ]
  },
  {
   "cell_type":"code",
   "execution_count":0,
   "metadata":{
    "colab":{
     "base_uri":"https://localhost:8080/",
     "height":590
    },
    "colab_type":"code",
    "executionInfo":{
     "elapsed":35425,
     "status":"ok",
     "timestamp":1546170872339,
     "user":{
      "displayName":"Nobuki Yoda",
      "photoUrl":"https://lh5.googleusercontent.com/-MDL8GrMcdx4/AAAAAAAAAAI/AAAAAAAAL4Q/lXYgU0Xn5Cs/s64/photo.jpg",
      "userId":"10400427038476009535"
     },
     "user_tz":-540
    },
    "id":"SXec2wwwa4n2",
    "outputId":"36ca8d2e-9ea9-4b9b-8ff9-fa40f03253bb"
   },
   "outputs":[
    {
     "name":"stdout",
     "output_type":"stream",
     "text":[
      "Tempo: 155.833489\n",
      "(128, 72)\n"
     ]
    },
    {
     "data":{
      "text/plain":[
       "<matplotlib.image.AxesImage at 0x7f9eb4f3d5d0>"
      ]
     },
     "execution_count":4,
     "metadata":{
      "tags":[]
     },
     "output_type":"execute_result"
    },
    {
     "data":{
      "image/png":"[encoded data removed]",
      "text/plain":[
       "<matplotlib.figure.Figure at 0x7f9eb4f3d9d0>"
      ]
     },
     "metadata":{
      "tags":[]
     },
     "output_type":"display_data"
    }
   ],
   "source":[
    "# ドラムを使わない。音符の多い8つのトラック(intrument)に限定\n",
    "def IsolateMelody(dat):\n",
    "  interesting = [i for i in dat.instruments if lambda i: len(i.notes)>0 and not i.is_drum]\n",
    "  interesting = sorted(interesting, reverse=True, key=lambda i: len(i.notes))\n",
    "  return interesting[0:8]\n",
    "\n",
    "# 8つのトラックを1つ目に全部入れる。\n",
    "def MergeInstruments(insts):\n",
    "  out = insts[0]\n",
    "  out.name = \"merged\"\n",
    "  for inst in insts[1:]:\n",
    "    out.notes += inst.notes\n",
    "  return out\n",
    "\n",
    "inf = pm.PrettyMIDI('example.mid')\n",
    "out = pm.PrettyMIDI()\n",
    "out.instruments = [MergeInstruments(IsolateMelody(inf))]\n",
    "out.write(\"testout.mid\")\n",
    "print(\"Tempo: %f\" % out.estimate_tempo())\n",
    "pr = out.get_piano_roll(fs=out.estimate_tempo()/60/2)\n",
    "#pr = out.get_chroma(times=out.get_beats())\n",
    "print(pr.shape)\n",
    "\n",
    "fig = plt.figure(figsize=(14, 9))\n",
    "ax  = fig.add_subplot(1, 1, 1)\n",
    "plt.imshow(pr)"
   ]
  },
  {
   "cell_type":"code",
   "execution_count":0,
   "metadata":{
    "colab":{
     "base_uri":"https://localhost:8080/",
     "height":223
    },
    "colab_type":"code",
    "executionInfo":{
     "elapsed":35879,
     "status":"ok",
     "timestamp":1546170872812,
     "user":{
      "displayName":"Nobuki Yoda",
      "photoUrl":"https://lh5.googleusercontent.com/-MDL8GrMcdx4/AAAAAAAAAAI/AAAAAAAAL4Q/lXYgU0Xn5Cs/s64/photo.jpg",
      "userId":"10400427038476009535"
     },
     "user_tz":-540
    },
    "id":"u743vxCE-p9E",
    "outputId":"ca0fc6df-f7f3-4bbe-8f97-7966f08e7b76"
   },
   "outputs":[
    {
     "data":{
      "image/png":"[encoded data removed]",
      "text/plain":[
       "<matplotlib.figure.Figure at 0x7f9eb4f6fb50>"
      ]
     },
     "metadata":{
      "tags":[]
     },
     "output_type":"display_data"
    }
   ],
   "source":[
    "def Datify(file):\n",
    "  md = pm.PrettyMIDI(file);\n",
    "  out = pm.PrettyMIDI()\n",
    "  out.instruments = [MergeInstruments(IsolateMelody(md))]\n",
    "  dat = {'src': file, 'midi': md, 'simplified': out}\n",
    "  dat['tempo'] = out.estimate_tempo()\n",
    "  dat['fs'] = out.estimate_tempo()/60*4\n",
    "  dat['frames'] = out.get_end_time() / dat['fs']\n",
    "  dat['pr'] = out.get_piano_roll(dat['fs'])\n",
    "  return dat\n",
    "\n",
    "def Sequify(file):\n",
    "  return Datify(file)['pr'];\n",
    "\n",
    "def ExpSeq(pr):\n",
    "  # We need to broadcast the image array such that it has a batch dimension\n",
    "  # https://github.com/tensorflow/models/blob/master/research/nst_blogpost/4_Neural_Style_Transfer_with_Eager_Execution.ipynb\n",
    "  return np.expand_dims(pr, axis=0)\n",
    "\n",
    "def SqSeq(pr):\n",
    "  return np.squeeze(pr, axis=0)\n",
    "\n",
    "def Pr(dat):\n",
    "  return dat['pr']\n",
    "\n",
    "def PlotPR(pr):\n",
    "  fig = plt.figure(figsize=(14, 9))\n",
    "  ax  = fig.add_subplot(1, 1, 1)\n",
    "  #img = SqSeq(pr)\n",
    "  img = pr\n",
    "  plt.imshow(img)\n",
    "\n",
    "PlotPR(Sequify(\"example.mid\"))"
   ]
  },
  {
   "cell_type":"code",
   "execution_count":0,
   "metadata":{
    "colab":{},
    "colab_type":"code",
    "id":"fO45Sr_DclWc"
   },
   "outputs":[],
   "source":[
    "if True:\n",
    "  corpus = [Datify(file) for file in sorted(glob.glob(\"liszt/*.mid\"))]"
   ]
  },
  {
   "cell_type":"code",
   "execution_count":0,
   "metadata":{
    "colab":{
     "base_uri":"https://localhost:8080/",
     "height":51
    },
    "colab_type":"code",
    "executionInfo":{
     "elapsed":44671,
     "status":"ok",
     "timestamp":1546170881635,
     "user":{
      "displayName":"Nobuki Yoda",
      "photoUrl":"https://lh5.googleusercontent.com/-MDL8GrMcdx4/AAAAAAAAAAI/AAAAAAAAL4Q/lXYgU0Xn5Cs/s64/photo.jpg",
      "userId":"10400427038476009535"
     },
     "user_tz":-540
    },
    "id":"8EggFl8JOEZ3",
    "outputId":"fb774f04-9173-4639-ff64-01935577ab07"
   },
   "outputs":[
    {
     "name":"stdout",
     "output_type":"stream",
     "text":[
      "11\n",
      "(128, 13400)\n"
     ]
    }
   ],
   "source":[
    "print(len(corpus))\n",
    "print(corpus[0]['pr'].shape)"
   ]
  },
  {
   "cell_type":"code",
   "execution_count":0,
   "metadata":{
    "colab":{},
    "colab_type":"code",
    "id":"JFyJq4abWVl_"
   },
   "outputs":[],
   "source":[
    "# 学習して生成したpiano rollをmidi fileを元に戻す\n",
    "import pretty_midi\n",
    "def piano_roll_to_pretty_midi(piano_roll, fs=100.0, program=1):\n",
    "    '''Convert a Piano Roll array into a PrettyMidi object\n",
    "     with a single instrument.\n",
    "    Parameters\n",
    "    ----------\n",
    "    piano_roll : np.ndarray, shape=(128,frames), dtype=int\n",
    "        Piano roll of one instrument\n",
    "    fs : int\n",
    "        Sampling frequency of the columns, i.e. each column is spaced apart\n",
    "        by ``1./fs`` seconds.\n",
    "    program : int\n",
    "        The program number of the instrument.\n",
    "    Returns\n",
    "    -------\n",
    "    midi_object : pretty_midi.PrettyMIDI\n",
    "        A pretty_midi.PrettyMIDI class instance describing\n",
    "        the piano roll.\n",
    "    '''\n",
    "    notes, frames = piano_roll.shape\n",
    "    pm = pretty_midi.PrettyMIDI()\n",
    "    instrument = pretty_midi.Instrument(program=program)\n",
    "\n",
    "    # pad 1 column of zeros so we can acknowledge inital and ending events\n",
    "    piano_roll = np.pad(piano_roll, [(0, 0), (1, 1)], 'constant')\n",
    "\n",
    "    # use changes in velocities to find note on / note off events\n",
    "    velocity_changes = np.nonzero(np.abs(np.diff(piano_roll).T)>10) # 要素間の差分をとる\n",
    "\n",
    "    # keep track on velocities and note on times\n",
    "    prev_velocities = np.zeros(notes, dtype=int)\n",
    "    note_on_time = np.zeros(notes)\n",
    "\n",
    "    for time, note in zip(*velocity_changes):\n",
    "        # use time + 1 because of padding above\n",
    "        velocity = piano_roll[note, time + 1]\n",
    "        time = time / fs\n",
    "        if velocity > 20:\n",
    "            if prev_velocities[note] == 0:\n",
    "                note_on_time[note] = time\n",
    "                prev_velocities[note] = np.clip(velocity, 0, 127)\n",
    "        else:\n",
    "            pm_note = pretty_midi.Note(\n",
    "                velocity=prev_velocities[note],\n",
    "                pitch=note,\n",
    "                start=note_on_time[note],\n",
    "                end=time)\n",
    "            instrument.notes.append(pm_note)\n",
    "            prev_velocities[note] = 0\n",
    "    pm.instruments.append(instrument)\n",
    "    return pm"
   ]
  },
  {
   "cell_type":"code",
   "execution_count":0,
   "metadata":{
    "colab":{
     "base_uri":"https://localhost:8080/",
     "height":173
    },
    "colab_type":"code",
    "executionInfo":{
     "elapsed":53263,
     "status":"ok",
     "timestamp":1546170890257,
     "user":{
      "displayName":"Nobuki Yoda",
      "photoUrl":"https://lh5.googleusercontent.com/-MDL8GrMcdx4/AAAAAAAAAAI/AAAAAAAAL4Q/lXYgU0Xn5Cs/s64/photo.jpg",
      "userId":"10400427038476009535"
     },
     "user_tz":-540
    },
    "id":"xX18D0PwcyHD",
    "outputId":"467465df-4a34-40ae-8b84-79ac48656c5c"
   },
   "outputs":[
    {
     "name":"stdout",
     "output_type":"stream",
     "text":[
      "Wrote: liszt/liz_donjuan.mid @ 13.260349837994438\n",
      "{'pr': array([[0., 0., 0., ..., 0., 0., 0.],\n",
      "       [0., 0., 0., ..., 0., 0., 0.],\n",
      "       [0., 0., 0., ..., 0., 0., 0.],\n",
      "       ...,\n",
      "       [0., 0., 0., ..., 0., 0., 0.],\n",
      "       [0., 0., 0., ..., 0., 0., 0.],\n",
      "       [0., 0., 0., ..., 0., 0., 0.]]), 'src': 'liszt/liz_donjuan.mid', 'fs': 13.260349837994438, 'midi': <pretty_midi.pretty_midi.PrettyMIDI object at 0x7f9eb4f36890>, 'tempo': 198.90524756991658, 'simplified': <pretty_midi.pretty_midi.PrettyMIDI object at 0x7f9eb4f366d0>, 'frames': 76.21065079688408}\n"
     ]
    }
   ],
   "source":[
    "# 前処理と後処理の確認。corp0-in.midがinput、corp0-simp.midが前処理後、corp0-conv.midが\n",
    "# corp0-simp.midを一度piano rollに変換した後midiファイルに戻したもの。\n",
    "np.savetxt(\"corp0.tsv\", corpus[0]['pr'], delimiter=\"\\t\")\n",
    "piano_roll_to_pretty_midi(corpus[0]['pr'], corpus[0]['fs']).write(\"corp0-conv.mid\")\n",
    "print(\"Wrote: %s @ %s\" % (corpus[0]['src'], corpus[0]['fs']))\n",
    "corpus[0]['midi'].write(\"corp0-in.mid\")\n",
    "corpus[0]['simplified'].write(\"corp0-simp.mid\")\n",
    "print(corpus[0])"
   ]
  },
  {
   "cell_type":"code",
   "execution_count":0,
   "metadata":{
    "colab":{
     "base_uri":"https://localhost:8080/",
     "height":349
    },
    "colab_type":"code",
    "executionInfo":{
     "elapsed":54688,
     "status":"ok",
     "timestamp":1546170891696,
     "user":{
      "displayName":"Nobuki Yoda",
      "photoUrl":"https://lh5.googleusercontent.com/-MDL8GrMcdx4/AAAAAAAAAAI/AAAAAAAAL4Q/lXYgU0Xn5Cs/s64/photo.jpg",
      "userId":"10400427038476009535"
     },
     "user_tz":-540
    },
    "id":"hLwCr8gvmPZK",
    "outputId":"98fec885-8b04-4ef8-8f01-e3a4d6ae8d9f"
   },
   "outputs":[
    {
     "data":{
      "image/png":"[encoded data removed]",
      "text/plain":[
       "<matplotlib.figure.Figure at 0x7f9ef31d86d0>"
      ]
     },
     "metadata":{
      "tags":[]
     },
     "output_type":"display_data"
    }
   ],
   "source":[
    "ex = corpus[0]['pr']\n",
    "\n",
    "#ref https://www.tensorflow.org/tutorials/sequences/text_generation\n",
    "\n",
    "seq_length = 100\n",
    "examples_per_epoch = ex.shape[1]\n",
    "pr_dataset = tf.data.Dataset.from_tensor_slices(tf.cast(ex.T, tf.float32)) #\"\".T\"は転置\n",
    "pr_dataset.output_shapes\n",
    "\n",
    "#for i in pr_dataset.take(5):\n",
    "#  print(i.numpy())\n",
    "#  print(i.numpy().shape)\n",
    "\n",
    "sequences = pr_dataset.batch(seq_length+1, drop_remainder=True)\n",
    "\n",
    "for item in sequences.take(3):\n",
    "  plt.imshow(item.numpy())"
   ]
  },
  {
   "cell_type":"code",
   "execution_count":0,
   "metadata":{
    "colab":{
     "base_uri":"https://localhost:8080/",
     "height":349
    },
    "colab_type":"code",
    "executionInfo":{
     "elapsed":54890,
     "status":"ok",
     "timestamp":1546170891922,
     "user":{
      "displayName":"Nobuki Yoda",
      "photoUrl":"https://lh5.googleusercontent.com/-MDL8GrMcdx4/AAAAAAAAAAI/AAAAAAAAL4Q/lXYgU0Xn5Cs/s64/photo.jpg",
      "userId":"10400427038476009535"
     },
     "user_tz":-540
    },
    "id":"p3U3g4c75zWD",
    "outputId":"a99c03fa-66f1-425f-f828-96dc51183943"
   },
   "outputs":[
    {
     "data":{
      "image/png":"[encoded data removed]",
      "text/plain":[
       "<matplotlib.figure.Figure at 0x7f9ef31d5390>"
      ]
     },
     "metadata":{
      "tags":[]
     },
     "output_type":"display_data"
    }
   ],
   "source":[
    "def split_input_target(chunk):\n",
    "    input_text = chunk[:-1]\n",
    "    target_text = chunk[1:]\n",
    "    return input_text, target_text\n",
    "\n",
    "dataset = sequences.map(split_input_target)\n",
    "\n",
    "for item in sequences.take(3):\n",
    " plt.imshow(item.numpy())"
   ]
  },
  {
   "cell_type":"code",
   "execution_count":0,
   "metadata":{
    "colab":{
     "base_uri":"https://localhost:8080/",
     "height":34
    },
    "colab_type":"code",
    "executionInfo":{
     "elapsed":54878,
     "status":"ok",
     "timestamp":1546170891924,
     "user":{
      "displayName":"Nobuki Yoda",
      "photoUrl":"https://lh5.googleusercontent.com/-MDL8GrMcdx4/AAAAAAAAAAI/AAAAAAAAL4Q/lXYgU0Xn5Cs/s64/photo.jpg",
      "userId":"10400427038476009535"
     },
     "user_tz":-540
    },
    "id":"IXuUU9_F5zWH",
    "outputId":"46fe1b05-ed7e-4521-b664-aa0147c1d320"
   },
   "outputs":[
    {
     "data":{
      "text/plain":[
       "<BatchDataset shapes: ((64, 100, 128), (64, 100, 128)), types: (tf.float32, tf.float32)>"
      ]
     },
     "execution_count":12,
     "metadata":{
      "tags":[]
     },
     "output_type":"execute_result"
    }
   ],
   "source":[
    "BATCH_SIZE = 64\n",
    "steps_per_epoch = examples_per_epoch//BATCH_SIZE\n",
    "\n",
    "# Buffer size to shuffle the dataset\n",
    "# (TF data is designed to work with possibly infinite sequences, \n",
    "# so it doesn't attempt to shuffle the entire sequence in memory. Instead, \n",
    "# it maintains a buffer in which it shuffles elements).\n",
    "BUFFER_SIZE = 10000\n",
    "\n",
    "dataset = dataset.shuffle(BUFFER_SIZE).batch(BATCH_SIZE, drop_remainder=True)\n",
    "#ref https://www.tensorflow.org/api_docs/python/tf/contrib/data/batch_and_drop_remainder\n",
    "\n",
    "dataset"
   ]
  },
  {
   "cell_type":"code",
   "execution_count":0,
   "metadata":{
    "colab":{
     "base_uri":"https://localhost:8080/",
     "height":238
    },
    "colab_type":"code",
    "executionInfo":{
     "elapsed":542,
     "status":"ok",
     "timestamp":1546170957292,
     "user":{
      "displayName":"Nobuki Yoda",
      "photoUrl":"https://lh5.googleusercontent.com/-MDL8GrMcdx4/AAAAAAAAAAI/AAAAAAAAL4Q/lXYgU0Xn5Cs/s64/photo.jpg",
      "userId":"10400427038476009535"
     },
     "user_tz":-540
    },
    "id":"tAGIyDhT5zWM",
    "outputId":"660bb06b-bf4b-41bf-d3da-4ef2d649ca5d"
   },
   "outputs":[
    {
     "name":"stdout",
     "output_type":"stream",
     "text":[
      "_________________________________________________________________\n",
      "Layer (type)                 Output Shape              Param #   \n",
      "=================================================================\n",
      "dense_2 (Dense)              (64, 100, 256)            33024     \n",
      "_________________________________________________________________\n",
      "cu_dnngru_1 (CuDNNGRU)       (64, 100, 1024)           3938304   \n",
      "_________________________________________________________________\n",
      "dense_3 (Dense)              (64, 100, 128)            131200    \n",
      "=================================================================\n",
      "Total params: 4,102,528\n",
      "Trainable params: 4,102,528\n",
      "Non-trainable params: 0\n",
      "_________________________________________________________________\n"
     ]
    }
   ],
   "source":[
    "# The embedding dimension\n",
    "embedding_dim = 256\n",
    "# The number of notes in one column of piano roll.\n",
    "keys_dim = 128\n",
    "rnn_units = 1024\n",
    "\n",
    "if tf.test.is_gpu_available():\n",
    "    model_path = \"model_gpu.h5\"\n",
    "    rnn = tf.keras.layers.CuDNNGRU\n",
    "else:\n",
    "    import functools\n",
    "    model_path = \"model.h5\"\n",
    "    rnn = functools.partial(\n",
    "        tf.keras.layers.GRU, recurrent_activation='sigmoid')\n",
    "    \n",
    "def build_model(batch_size, seq_length):\n",
    "    return tf.keras.Sequential([\n",
    "        tf.keras.layers.Dense(\n",
    "            embedding_dim,\n",
    "            batch_input_shape=[batch_size, seq_length, keys_dim]),\n",
    "        rnn(\n",
    "            rnn_units,\n",
    "             return_sequences=True, \n",
    "             recurrent_initializer='glorot_uniform',\n",
    "             stateful=True),\n",
    "        tf.keras.layers.Dense(keys_dim),\n",
    "    ])\n",
    "\n",
    "model = build_model(BATCH_SIZE, seq_length)\n",
    "\n",
    "#保存済みモデルがあったら読み込む。\n",
    "if os.path.exists(model_path):\n",
    "    model.load_weights(model_path)\n",
    "\n",
    "model.compile(loss=\"mean_squared_error\", optimizer=tf.train.AdamOptimizer())\n",
    "model.summary()"
   ]
  },
  {
   "cell_type":"markdown",
   "metadata":{
    "colab_type":"text",
    "id":"bUlU5IuS5zWS"
   },
   "source":[
    "### Try the model"
   ]
  },
  {
   "cell_type":"code",
   "execution_count":0,
   "metadata":{
    "colab":{
     "base_uri":"https://localhost:8080/",
     "height":34
    },
    "colab_type":"code",
    "executionInfo":{
     "elapsed":3078,
     "status":"ok",
     "timestamp":1546170969308,
     "user":{
      "displayName":"Nobuki Yoda",
      "photoUrl":"https://lh5.googleusercontent.com/-MDL8GrMcdx4/AAAAAAAAAAI/AAAAAAAAL4Q/lXYgU0Xn5Cs/s64/photo.jpg",
      "userId":"10400427038476009535"
     },
     "user_tz":-540
    },
    "id":"gKgz8Ptj5zWT",
    "outputId":"bd736ecd-449d-4392-accb-93c10420f982"
   },
   "outputs":[
    {
     "name":"stdout",
     "output_type":"stream",
     "text":[
      "(TensorShape([Dimension(64), Dimension(100), Dimension(128)]), '# (batch_size, sequence_length, vocab_size)')\n"
     ]
    }
   ],
   "source":[
    "for input_example_batch, target_example_batch in dataset.take(1): \n",
    "  example_batch_predictions = model(input_example_batch)\n",
    "  print(example_batch_predictions.shape, \"# (batch_size, sequence_length, vocab_size)\")"
   ]
  },
  {
   "cell_type":"code",
   "execution_count":0,
   "metadata":{
    "colab":{
     "base_uri":"https://localhost:8080/",
     "height":366
    },
    "colab_type":"code",
    "executionInfo":{
     "elapsed":797,
     "status":"ok",
     "timestamp":1546170971371,
     "user":{
      "displayName":"Nobuki Yoda",
      "photoUrl":"https://lh5.googleusercontent.com/-MDL8GrMcdx4/AAAAAAAAAAI/AAAAAAAAL4Q/lXYgU0Xn5Cs/s64/photo.jpg",
      "userId":"10400427038476009535"
     },
     "user_tz":-540
    },
    "id":"wXvGrOYY5zWW",
    "outputId":"a02e81b1-7864-4085-e183-66a1a4d447ca"
   },
   "outputs":[
    {
     "data":{
      "text/plain":[
       "<matplotlib.image.AxesImage at 0x7f9eb24861d0>"
      ]
     },
     "execution_count":16,
     "metadata":{
      "tags":[]
     },
     "output_type":"execute_result"
    },
    {
     "data":{
      "image/png":"[encoded data removed]",
      "text/plain":[
       "<matplotlib.figure.Figure at 0x7f9ef31dd950>"
      ]
     },
     "metadata":{
      "tags":[]
     },
     "output_type":"display_data"
    }
   ],
   "source":[
    "plt.imshow(example_batch_predictions.numpy()[0])"
   ]
  },
  {
   "cell_type":"code",
   "execution_count":0,
   "metadata":{
    "colab":{},
    "colab_type":"code",
    "id":"UQ_JHL-m5zWc"
   },
   "outputs":[],
   "source":[
    "piano_roll_to_pretty_midi(example_batch_predictions.numpy()[0]).write(\"try-the-model.mid\")"
   ]
  },
  {
   "cell_type":"markdown",
   "metadata":{
    "colab_type":"text",
    "id":"-BMGrlkk5zWe"
   },
   "source":[
    "### Train the model"
   ]
  },
  {
   "cell_type":"code",
   "execution_count":0,
   "metadata":{
    "colab":{
     "base_uri":"https://localhost:8080/",
     "height":156
    },
    "colab_type":"code",
    "executionInfo":{
     "elapsed":96080,
     "status":"ok",
     "timestamp":1546171128797,
     "user":{
      "displayName":"Nobuki Yoda",
      "photoUrl":"https://lh5.googleusercontent.com/-MDL8GrMcdx4/AAAAAAAAAAI/AAAAAAAAL4Q/lXYgU0Xn5Cs/s64/photo.jpg",
      "userId":"10400427038476009535"
     },
     "user_tz":-540
    },
    "id":"9tkJwQGI5zWh",
    "outputId":"12222ce1-3d96-41ca-ac07-dde398cee0bb"
   },
   "outputs":[
    {
     "name":"stdout",
     "output_type":"stream",
     "text":[
      "Epoch 1/3\n",
      "209/209 [==============================] - 32s 153ms/step - loss: 38.2970\n",
      "Epoch 2/3\n",
      "209/209 [==============================] - 32s 152ms/step - loss: 19.1222\n",
      "Epoch 3/3\n",
      "209/209 [==============================] - 32s 152ms/step - loss: 11.8531\n",
      "WARNING:tensorflow:TensorFlow optimizers do not make it possible to access optimizer attributes or optimizer state after instantiation. As a result, we cannot save the optimizer as part of the model save file.You will have to compile your model again after loading it. Prefer using a Keras optimizer instead (see keras.io/optimizers).\n"
     ]
    }
   ],
   "source":[
    "model.fit(dataset.repeat(), epochs=3, steps_per_epoch=steps_per_epoch)\n",
    "model.save(model_path)"
   ]
  },
  {
   "cell_type":"code",
   "execution_count":0,
   "metadata":{
    "colab":{
     "base_uri":"https://localhost:8080/",
     "height":349
    },
    "colab_type":"code",
    "executionInfo":{
     "elapsed":799,
     "status":"ok",
     "timestamp":1546171138122,
     "user":{
      "displayName":"Nobuki Yoda",
      "photoUrl":"https://lh5.googleusercontent.com/-MDL8GrMcdx4/AAAAAAAAAAI/AAAAAAAAL4Q/lXYgU0Xn5Cs/s64/photo.jpg",
      "userId":"10400427038476009535"
     },
     "user_tz":-540
    },
    "id":"BJiwTTLK5zWj",
    "outputId":"4ea4764b-0ac9-4e72-d81e-c79209bcc79d"
   },
   "outputs":[
    {
     "data":{
      "image/png":"[encoded data removed]",
      "text/plain":[
       "<matplotlib.figure.Figure at 0x7f9ef31de9d0>"
      ]
     },
     "metadata":{
      "tags":[]
     },
     "output_type":"display_data"
    }
   ],
   "source":[
    "for input_example_batch, target_example_batch in dataset.take(1): \n",
    "    plt.imshow(target_example_batch.numpy()[0])\n",
    "    piano_roll_to_pretty_midi(target_example_batch.numpy()[0].T).write(\"train-the-model-target.mid\")\n",
    "    example_batch_predictions_2 = model(input_example_batch)"
   ]
  },
  {
   "cell_type":"code",
   "execution_count":0,
   "metadata":{
    "colab":{
     "base_uri":"https://localhost:8080/",
     "height":366
    },
    "colab_type":"code",
    "executionInfo":{
     "elapsed":563,
     "status":"ok",
     "timestamp":1546171141247,
     "user":{
      "displayName":"Nobuki Yoda",
      "photoUrl":"https://lh5.googleusercontent.com/-MDL8GrMcdx4/AAAAAAAAAAI/AAAAAAAAL4Q/lXYgU0Xn5Cs/s64/photo.jpg",
      "userId":"10400427038476009535"
     },
     "user_tz":-540
    },
    "id":"fFPUyyyM5zWn",
    "outputId":"3df3bb84-9fd5-420c-9121-d9fc87e19165"
   },
   "outputs":[
    {
     "data":{
      "text/plain":[
       "<matplotlib.image.AxesImage at 0x7f9eb0da5510>"
      ]
     },
     "execution_count":20,
     "metadata":{
      "tags":[]
     },
     "output_type":"execute_result"
    },
    {
     "data":{
      "image/png":"[encoded data removed]",
      "text/plain":[
       "<matplotlib.figure.Figure at 0x7f9eb00f5150>"
      ]
     },
     "metadata":{
      "tags":[]
     },
     "output_type":"display_data"
    }
   ],
   "source":[
    "piano_roll_to_pretty_midi(example_batch_predictions_2.numpy()[0].T).write(\"train-the-model.mid\")\n",
    "plt.imshow(example_batch_predictions_2.numpy()[0])"
   ]
  },
  {
   "cell_type":"code",
   "execution_count":0,
   "metadata":{
    "colab":{
     "base_uri":"https://localhost:8080/",
     "height":476
    },
    "colab_type":"code",
    "executionInfo":{
     "elapsed":510,
     "status":"ok",
     "timestamp":1546171143952,
     "user":{
      "displayName":"Nobuki Yoda",
      "photoUrl":"https://lh5.googleusercontent.com/-MDL8GrMcdx4/AAAAAAAAAAI/AAAAAAAAL4Q/lXYgU0Xn5Cs/s64/photo.jpg",
      "userId":"10400427038476009535"
     },
     "user_tz":-540
    },
    "id":"1QMtglFu5zWs",
    "outputId":"9484ac7b-88fd-4ed2-a1cd-1a8ee4ddb8c7"
   },
   "outputs":[
    {
     "name":"stdout",
     "output_type":"stream",
     "text":[
      "(array([ 0,  0,  0,  0,  0,  1,  1,  1,  1,  2,  2,  3,  3,  3,  4,  4,  4,\n",
      "        4,  4,  4,  4,  5,  5,  5,  5,  5,  6,  6,  7,  7,  7,  8,  8,  8,\n",
      "        9,  9,  9,  9, 10, 10, 11, 11, 11, 12, 12, 12, 12, 12, 12, 12, 12,\n",
      "       13, 13, 13, 13, 13, 14, 14, 14, 15, 15, 15, 16, 16, 16, 17, 17, 18,\n",
      "       18, 19, 19, 20, 20, 20, 20, 20, 20, 20, 21, 21, 21, 21, 21, 22, 22,\n",
      "       23, 23, 23, 24, 24, 24, 24, 24, 24, 24, 25, 25, 25, 26, 26, 27, 27,\n",
      "       27, 27, 27, 28, 28, 28, 28, 28, 28, 29, 29, 29, 30, 30, 30, 31, 31,\n",
      "       31, 31, 32, 32, 33, 33, 34, 34, 35, 35, 35, 36, 36, 36, 36, 37, 37,\n",
      "       37, 47, 47, 47, 58, 58, 58, 58, 59, 59, 60, 60, 60, 61, 61, 62, 62,\n",
      "       63, 63, 64, 64, 65, 65, 66, 66, 67, 67, 68, 68, 69, 69, 70, 70, 71,\n",
      "       71, 72, 72, 73, 73, 74, 74, 75, 75, 76, 76, 77, 77, 78, 78, 79, 79,\n",
      "       80, 80, 81, 81, 82, 82, 82, 83, 83, 83, 84, 84, 85, 85, 85, 88, 89,\n",
      "       89, 89, 89, 89, 91, 91, 91, 91, 91, 93, 93, 93, 95, 95, 95, 95, 95,\n",
      "       95, 95, 97, 97, 97, 97]), array([57, 60, 72, 84, 96, 57, 60, 83, 96, 89, 93, 61, 85, 89, 46, 52, 58,\n",
      "       61, 85, 94, 97, 45, 52, 58, 61, 97, 88, 91, 41, 49, 94, 58, 82, 94,\n",
      "       41, 49, 82, 94, 85, 91, 48, 53, 93, 45, 48, 53, 57, 81, 89, 90, 93,\n",
      "       48, 53, 57, 81, 93, 84, 89, 96, 60, 84, 96, 60, 84, 96, 60, 96, 89,\n",
      "       93, 61, 89, 46, 52, 58, 61, 85, 94, 97, 52, 58, 61, 85, 97, 88, 91,\n",
      "       41, 49, 94, 41, 49, 58, 64, 70, 82, 94, 52, 58, 94, 85, 91, 48, 53,\n",
      "       57, 81, 93, 48, 53, 57, 81, 90, 93, 53, 57, 93, 84, 89, 96, 60, 84,\n",
      "       89, 96, 60, 96, 60, 96, 89, 93, 63, 87, 99, 41, 63, 87, 99, 63, 87,\n",
      "       99, 55, 67, 79, 57, 69, 70, 82, 57, 69, 58, 70, 82, 57, 69, 70, 82,\n",
      "       57, 69, 70, 82, 55, 79, 57, 69, 70, 82, 57, 69, 70, 82, 57, 69, 70,\n",
      "       82, 57, 69, 70, 82, 57, 69, 70, 82, 57, 69, 70, 82, 57, 69, 70, 82,\n",
      "       57, 69, 70, 82, 55, 67, 79, 55, 67, 79, 69, 81, 57, 69, 81, 53, 34,\n",
      "       46, 58, 70, 82, 58, 62, 65, 74, 77, 58, 62, 70, 53, 58, 65, 70, 74,\n",
      "       77, 82, 46, 70, 74, 86]))\n"
     ]
    }
   ],
   "source":[
    "print(np.where((np.diff(example_batch_predictions_2.numpy()[0].T).T)>10))"
   ]
  },
  {
   "cell_type":"code",
   "execution_count":0,
   "metadata":{
    "colab":{},
    "colab_type":"code",
    "id":"ZA3s0iWt5zWv"
   },
   "outputs":[],
   "source":[
    "# 学習して生成したpiano rollをmidi fileを元に戻す\n",
    "import pretty_midi\n",
    "def piano_roll_to_pretty_midi(piano_roll, fs=100.0, program=1):\n",
    "    '''Convert a Piano Roll array into a PrettyMidi object\n",
    "     with a single instrument.\n",
    "    Parameters\n",
    "    ----------\n",
    "    piano_roll : np.ndarray, shape=(128,frames), dtype=int\n",
    "        Piano roll of one instrument\n",
    "    fs : int\n",
    "        Sampling frequency of the columns, i.e. each column is spaced apart\n",
    "        by ``1./fs`` seconds.\n",
    "    program : int\n",
    "        The program number of the instrument.\n",
    "    Returns\n",
    "    -------\n",
    "    midi_object : pretty_midi.PrettyMIDI\n",
    "        A pretty_midi.PrettyMIDI class instance describing\n",
    "        the piano roll.\n",
    "    '''\n",
    "    notes, frames = piano_roll.shape\n",
    "    pm = pretty_midi.PrettyMIDI()\n",
    "    instrument = pretty_midi.Instrument(program=program)\n",
    "\n",
    "    # pad 1 column of zeros so we can acknowledge inital and ending events\n",
    "    piano_roll = np.pad(piano_roll, [(0, 0), (1, 1)], 'constant')\n",
    "\n",
    "    # use changes in velocities to find note on / note off events\n",
    "    velocity_changes = np.nonzero(np.abs(np.diff(piano_roll).T)>10) # 要素間の差分をとる\n",
    "\n",
    "    # keep track on velocities and note on times\n",
    "    prev_velocities = np.zeros(notes, dtype=int)\n",
    "    note_on_time = np.zeros(notes)\n",
    "\n",
    "    for time, note in zip(*velocity_changes):\n",
    "        # use time + 1 because of padding above\n",
    "        velocity = piano_roll[note, time + 1]\n",
    "        time = time / fs\n",
    "        if velocity > 20:\n",
    "            if prev_velocities[note] == 0:\n",
    "                note_on_time[note] = time\n",
    "                prev_velocities[note] = np.clip(velocity, 0, 127)\n",
    "        else:\n",
    "            pm_note = pretty_midi.Note(\n",
    "                velocity=prev_velocities[note],\n",
    "                pitch=note,\n",
    "                start=note_on_time[note],\n",
    "                end=time)\n",
    "            instrument.notes.append(pm_note)\n",
    "            prev_velocities[note] = 0\n",
    "    pm.instruments.append(instrument)\n",
    "    return pm"
   ]
  },
  {
   "cell_type":"code",
   "execution_count":0,
   "metadata":{
    "colab":{
     "base_uri":"https://localhost:8080/",
     "height":366
    },
    "colab_type":"code",
    "executionInfo":{
     "elapsed":551,
     "status":"ok",
     "timestamp":1546171165236,
     "user":{
      "displayName":"Nobuki Yoda",
      "photoUrl":"https://lh5.googleusercontent.com/-MDL8GrMcdx4/AAAAAAAAAAI/AAAAAAAAL4Q/lXYgU0Xn5Cs/s64/photo.jpg",
      "userId":"10400427038476009535"
     },
     "user_tz":-540
    },
    "id":"pWkTJUi45zWz",
    "outputId":"ecb5d44f-a9ce-4424-ac8d-e8e3dc740b74"
   },
   "outputs":[
    {
     "data":{
      "text/plain":[
       "<matplotlib.image.AxesImage at 0x7f9eb1e326d0>"
      ]
     },
     "execution_count":23,
     "metadata":{
      "tags":[]
     },
     "output_type":"execute_result"
    },
    {
     "data":{
      "image/png":"[encoded data removed]",
      "text/plain":[
       "<matplotlib.figure.Figure at 0x7f9ef31dddd0>"
      ]
     },
     "metadata":{
      "tags":[]
     },
     "output_type":"display_data"
    }
   ],
   "source":[
    "plt.imshow(piano_roll_to_pretty_midi(target_example_batch.numpy()[0].T).get_piano_roll().T)"
   ]
  },
  {
   "cell_type":"code",
   "execution_count":0,
   "metadata":{
    "colab":{
     "base_uri":"https://localhost:8080/",
     "height":366
    },
    "colab_type":"code",
    "executionInfo":{
     "elapsed":533,
     "status":"ok",
     "timestamp":1546171167516,
     "user":{
      "displayName":"Nobuki Yoda",
      "photoUrl":"https://lh5.googleusercontent.com/-MDL8GrMcdx4/AAAAAAAAAAI/AAAAAAAAL4Q/lXYgU0Xn5Cs/s64/photo.jpg",
      "userId":"10400427038476009535"
     },
     "user_tz":-540
    },
    "id":"yHr_I_Qt5zW5",
    "outputId":"5975a207-6898-48dc-ce44-d9fdbfac7c3d"
   },
   "outputs":[
    {
     "data":{
      "text/plain":[
       "<matplotlib.image.AxesImage at 0x7f9eb0ac9910>"
      ]
     },
     "execution_count":24,
     "metadata":{
      "tags":[]
     },
     "output_type":"execute_result"
    },
    {
     "data":{
      "image/png":"[encoded data removed]",
      "text/plain":[
       "<matplotlib.figure.Figure at 0x7f9eb1e14290>"
      ]
     },
     "metadata":{
      "tags":[]
     },
     "output_type":"display_data"
    }
   ],
   "source":[
    "plt.imshow(piano_roll_to_pretty_midi(example_batch_predictions_2.numpy()[0].T).get_piano_roll().T)"
   ]
  },
  {
   "cell_type":"code",
   "execution_count":0,
   "metadata":{
    "colab":{
     "base_uri":"https://localhost:8080/",
     "height":71
    },
    "colab_type":"code",
    "executionInfo":{
     "elapsed":562,
     "status":"ok",
     "timestamp":1546171169771,
     "user":{
      "displayName":"Nobuki Yoda",
      "photoUrl":"https://lh5.googleusercontent.com/-MDL8GrMcdx4/AAAAAAAAAAI/AAAAAAAAL4Q/lXYgU0Xn5Cs/s64/photo.jpg",
      "userId":"10400427038476009535"
     },
     "user_tz":-540
    },
    "id":"r02xNj1l5zW8",
    "outputId":"a8b55d80-d510-48ee-86dd-6cb21268993c"
   },
   "outputs":[
    {
     "data":{
      "text/plain":[
       "<matplotlib.image.AxesImage at 0x7f9eb05e8bd0>"
      ]
     },
     "execution_count":25,
     "metadata":{
      "tags":[]
     },
     "output_type":"execute_result"
    },
    {
     "data":{
      "image/png":"[encoded data removed]",
      "text/plain":[
       "<matplotlib.figure.Figure at 0x7f9eb241c590>"
      ]
     },
     "metadata":{
      "tags":[]
     },
     "output_type":"display_data"
    }
   ],
   "source":[
    "plt.imshow(np.nonzero(np.diff(target_example_batch.numpy()[0], axis = 0)))"
   ]
  },
  {
   "cell_type":"markdown",
   "metadata":{
    "colab_type":"text",
    "id":"F4kNQm4J5zXB"
   },
   "source":[
    "### Generate Music"
   ]
  },
  {
   "cell_type":"code",
   "execution_count":0,
   "metadata":{
    "colab":{
     "base_uri":"https://localhost:8080/",
     "height":238
    },
    "colab_type":"code",
    "executionInfo":{
     "elapsed":497,
     "status":"ok",
     "timestamp":1546171208627,
     "user":{
      "displayName":"Nobuki Yoda",
      "photoUrl":"https://lh5.googleusercontent.com/-MDL8GrMcdx4/AAAAAAAAAAI/AAAAAAAAL4Q/lXYgU0Xn5Cs/s64/photo.jpg",
      "userId":"10400427038476009535"
     },
     "user_tz":-540
    },
    "id":"w-9ELWbG5zXC",
    "outputId":"ae230829-47f6-46fe-d48c-e34d17ee5873"
   },
   "outputs":[
    {
     "name":"stdout",
     "output_type":"stream",
     "text":[
      "_________________________________________________________________\n",
      "Layer (type)                 Output Shape              Param #   \n",
      "=================================================================\n",
      "dense_8 (Dense)              (1, None, 256)            33024     \n",
      "_________________________________________________________________\n",
      "cu_dnngru_4 (CuDNNGRU)       (1, None, 1024)           3938304   \n",
      "_________________________________________________________________\n",
      "dense_9 (Dense)              (1, None, 128)            131200    \n",
      "=================================================================\n",
      "Total params: 4,102,528\n",
      "Trainable params: 4,102,528\n",
      "Non-trainable params: 0\n",
      "_________________________________________________________________\n"
     ]
    }
   ],
   "source":[
    "model = build_model(1, None)\n",
    "model.load_weights(model_path)\n",
    "model.build(tf.TensorShape([1, None, keys_dim]))\n",
    "model.summary()"
   ]
  },
  {
   "cell_type":"code",
   "execution_count":0,
   "metadata":{
    "colab":{
     "base_uri":"https://localhost:8080/",
     "height":368
    },
    "colab_type":"code",
    "executionInfo":{
     "elapsed":512,
     "status":"ok",
     "timestamp":1546171211365,
     "user":{
      "displayName":"Nobuki Yoda",
      "photoUrl":"https://lh5.googleusercontent.com/-MDL8GrMcdx4/AAAAAAAAAAI/AAAAAAAAL4Q/lXYgU0Xn5Cs/s64/photo.jpg",
      "userId":"10400427038476009535"
     },
     "user_tz":-540
    },
    "id":"qClJDH0U5zXF",
    "outputId":"d3b845dd-d4cc-432d-cd23-fabf8320d658"
   },
   "outputs":[
    {
     "data":{
      "text/plain":[
       "<matplotlib.image.AxesImage at 0x7f9eb19ff1d0>"
      ]
     },
     "execution_count":30,
     "metadata":{
      "tags":[]
     },
     "output_type":"execute_result"
    },
    {
     "data":{
      "image/png":"[encoded data removed]",
      "text/plain":[
       "<matplotlib.figure.Figure at 0x7f9eafdf1750>"
      ]
     },
     "metadata":{
      "tags":[]
     },
     "output_type":"display_data"
    }
   ],
   "source":[
    "# Number of  notes to generate\n",
    "num_generate = 1000\n",
    "\n",
    "# Buffer for output\n",
    "result = np.zeros([num_generate+1, keys_dim], dtype=np.float32)\n",
    "plt.imshow(result)"
   ]
  },
  {
   "cell_type":"code",
   "execution_count":0,
   "metadata":{
    "colab":{
     "base_uri":"https://localhost:8080/",
     "height":34
    },
    "colab_type":"code",
    "executionInfo":{
     "elapsed":596,
     "status":"ok",
     "timestamp":1546171215805,
     "user":{
      "displayName":"Nobuki Yoda",
      "photoUrl":"https://lh5.googleusercontent.com/-MDL8GrMcdx4/AAAAAAAAAAI/AAAAAAAAL4Q/lXYgU0Xn5Cs/s64/photo.jpg",
      "userId":"10400427038476009535"
     },
     "user_tz":-540
    },
    "id":"Q3a3O0IC5zXJ",
    "outputId":"325affd1-0aec-4108-9c0d-36131b174e26"
   },
   "outputs":[
    {
     "data":{
      "text/plain":[
       "TensorShape([Dimension(1), Dimension(1), Dimension(128)])"
      ]
     },
     "execution_count":31,
     "metadata":{
      "tags":[]
     },
     "output_type":"execute_result"
    }
   ],
   "source":[
    "# Make first inout\n",
    "input_eval = tf.expand_dims(result[0:1], 0)\n",
    "input_eval.shape"
   ]
  },
  {
   "cell_type":"code",
   "execution_count":0,
   "metadata":{
    "colab":{
     "base_uri":"https://localhost:8080/",
     "height":72
    },
    "colab_type":"code",
    "executionInfo":{
     "elapsed":513,
     "status":"ok",
     "timestamp":1546171220446,
     "user":{
      "displayName":"Nobuki Yoda",
      "photoUrl":"https://lh5.googleusercontent.com/-MDL8GrMcdx4/AAAAAAAAAAI/AAAAAAAAL4Q/lXYgU0Xn5Cs/s64/photo.jpg",
      "userId":"10400427038476009535"
     },
     "user_tz":-540
    },
    "id":"7QNmpECD5zXR",
    "outputId":"f74bc69f-d41c-4bbe-b5f3-8460fbd3cca7"
   },
   "outputs":[
    {
     "data":{
      "text/plain":[
       "<matplotlib.image.AxesImage at 0x7f9eafa56cd0>"
      ]
     },
     "execution_count":32,
     "metadata":{
      "tags":[]
     },
     "output_type":"execute_result"
    },
    {
     "data":{
      "image/png":"[encoded data removed]",
      "text/plain":[
       "<matplotlib.figure.Figure at 0x7f9eb05f8190>"
      ]
     },
     "metadata":{
      "tags":[]
     },
     "output_type":"display_data"
    }
   ],
   "source":[
    "# Try to generate first\n",
    "model.reset_states()\n",
    "predictions = model(input_eval)\n",
    "predictions = tf.squeeze(predictions, 0)\n",
    "result[1] = predictions\n",
    "plt.imshow(predictions)"
   ]
  },
  {
   "cell_type":"code",
   "execution_count":0,
   "metadata":{
    "colab":{
     "base_uri":"https://localhost:8080/",
     "height":72
    },
    "colab_type":"code",
    "executionInfo":{
     "elapsed":577,
     "status":"ok",
     "timestamp":1546171224390,
     "user":{
      "displayName":"Nobuki Yoda",
      "photoUrl":"https://lh5.googleusercontent.com/-MDL8GrMcdx4/AAAAAAAAAAI/AAAAAAAAL4Q/lXYgU0Xn5Cs/s64/photo.jpg",
      "userId":"10400427038476009535"
     },
     "user_tz":-540
    },
    "id":"4SuwT0Cs5zXV",
    "outputId":"82bd9379-e4dc-4a08-8528-402bafe17cf4"
   },
   "outputs":[
    {
     "data":{
      "text/plain":[
       "<matplotlib.image.AxesImage at 0x7f9eafcd1210>"
      ]
     },
     "execution_count":33,
     "metadata":{
      "tags":[]
     },
     "output_type":"execute_result"
    },
    {
     "data":{
      "image/png":"[encoded data removed]",
      "text/plain":[
       "<matplotlib.figure.Figure at 0x7f9eafa71e90>"
      ]
     },
     "metadata":{
      "tags":[]
     },
     "output_type":"display_data"
    }
   ],
   "source":[
    "# Initialize first keys randomly\n",
    "for i in range(10):\n",
    "    key = int(np.clip(np.random.normal(keys_dim/2, keys_dim/4), 0, keys_dim - 1))\n",
    "    result[0][key] = 100\n",
    "    \n",
    "plt.imshow(result[0:1])"
   ]
  },
  {
   "cell_type":"code",
   "execution_count":0,
   "metadata":{
    "colab":{
     "base_uri":"https://localhost:8080/",
     "height":126
    },
    "colab_type":"code",
    "executionInfo":{
     "elapsed":587,
     "status":"ok",
     "timestamp":1546171227307,
     "user":{
      "displayName":"Nobuki Yoda",
      "photoUrl":"https://lh5.googleusercontent.com/-MDL8GrMcdx4/AAAAAAAAAAI/AAAAAAAAL4Q/lXYgU0Xn5Cs/s64/photo.jpg",
      "userId":"10400427038476009535"
     },
     "user_tz":-540
    },
    "id":"T2Jwxf455zXc",
    "outputId":"388b7256-cb74-42ff-b984-3768b3b4eb26"
   },
   "outputs":[
    {
     "data":{
      "text/plain":[
       "<matplotlib.image.AxesImage at 0x7f9eb0a6be90>"
      ]
     },
     "execution_count":34,
     "metadata":{
      "tags":[]
     },
     "output_type":"execute_result"
    },
    {
     "data":{
      "image/png":"[encoded data removed]",
      "text/plain":[
       "<matplotlib.figure.Figure at 0x7f9eafd02e10>"
      ]
     },
     "metadata":{
      "tags":[]
     },
     "output_type":"display_data"
    }
   ],
   "source":[
    "# Use training data\n",
    "intro = target_example_batch[0]\n",
    "intro_length = intro.shape[0]\n",
    "result[0 : intro_length] = intro\n",
    "plt.imshow(result.T)"
   ]
  },
  {
   "cell_type":"code",
   "execution_count":0,
   "metadata":{
    "colab":{
     "base_uri":"https://localhost:8080/",
     "height":126
    },
    "colab_type":"code",
    "executionInfo":{
     "elapsed":6070,
     "status":"ok",
     "timestamp":1546171235745,
     "user":{
      "displayName":"Nobuki Yoda",
      "photoUrl":"https://lh5.googleusercontent.com/-MDL8GrMcdx4/AAAAAAAAAAI/AAAAAAAAL4Q/lXYgU0Xn5Cs/s64/photo.jpg",
      "userId":"10400427038476009535"
     },
     "user_tz":-540
    },
    "id":"hVZtxtai5zXk",
    "outputId":"ca28582e-6a8f-485b-d09a-f3fc93a3f89f"
   },
   "outputs":[
    {
     "data":{
      "text/plain":[
       "<matplotlib.image.AxesImage at 0x7f9eb009f290>"
      ]
     },
     "execution_count":35,
     "metadata":{
      "tags":[]
     },
     "output_type":"execute_result"
    },
    {
     "data":{
      "image/png":"[encoded data removed]",
      "text/plain":[
       "<matplotlib.figure.Figure at 0x7f9eb0619b10>"
      ]
     },
     "metadata":{
      "tags":[]
     },
     "output_type":"display_data"
    }
   ],
   "source":[
    "# Generate all\n",
    "model.reset_states()\n",
    "for i in range(num_generate):\n",
    "    input_eval = tf.expand_dims(result[ i : i + 1], 0)\n",
    "    predictions = model(input_eval)\n",
    "    if i > intro_length - 2:\n",
    "        result[ i + 1] = tf.squeeze(predictions, 0)\n",
    "\n",
    "plt.imshow(result.T)"
   ]
  },
  {
   "cell_type":"code",
   "execution_count":0,
   "metadata":{
    "colab":{
     "base_uri":"https://localhost:8080/",
     "height":126
    },
    "colab_type":"code",
    "executionInfo":{
     "elapsed":598,
     "status":"ok",
     "timestamp":1546171240641,
     "user":{
      "displayName":"Nobuki Yoda",
      "photoUrl":"https://lh5.googleusercontent.com/-MDL8GrMcdx4/AAAAAAAAAAI/AAAAAAAAL4Q/lXYgU0Xn5Cs/s64/photo.jpg",
      "userId":"10400427038476009535"
     },
     "user_tz":-540
    },
    "id":"jzUqHo1N5zXo",
    "outputId":"34ff0cbe-0cee-4717-a2eb-7990b9420f1b"
   },
   "outputs":[
    {
     "data":{
      "text/plain":[
       "<matplotlib.image.AxesImage at 0x7f9eb00195d0>"
      ]
     },
     "execution_count":36,
     "metadata":{
      "tags":[]
     },
     "output_type":"execute_result"
    },
    {
     "data":{
      "image/png":"[encoded data removed]",
      "text/plain":[
       "<matplotlib.figure.Figure at 0x7f9eb057f5d0>"
      ]
     },
     "metadata":{
      "tags":[]
     },
     "output_type":"display_data"
    }
   ],
   "source":[
    "result_midi = piano_roll_to_pretty_midi(result.T)\n",
    "result_midi.write(\"result.midi\")\n",
    "plt.imshow(result_midi.get_piano_roll())"
   ]
  }
 ],
 "metadata":{
  "accelerator":"GPU",
  "colab":{
   "collapsed_sections":[],
   "name":"music-playground.ipynb",
   "provenance":[],
   "version":"0.3.2"
  },
  "kernelspec":{
   "display_name":"Python 2",
   "name":"python2"
  }
 },
 "nbformat":4,
 "nbformat_minor":0
}
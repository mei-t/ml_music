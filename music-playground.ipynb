{
 "cells": [
  {
   "cell_type": "code",
   "execution_count": 2,
   "metadata": {
    "colab": {
     "base_uri": "https://localhost:8080/",
     "height": 107
    },
    "colab_type": "code",
    "id": "BHLh_kOoMAQo",
    "outputId": "4f2647d6-06dc-4c3b-b413-8b5461471833"
   },
   "outputs": [
    {
     "name": "stdout",
     "output_type": "stream",
     "text": [
      "170\n",
      "False\n",
      "\n",
      "[30.  0. 10.  2. 22. 32.  6. 20.  0. 28. 20.  0.]\n"
     ]
    },
    {
     "data": {
      "text/plain": [
       "0"
      ]
     },
     "execution_count": 2,
     "metadata": {},
     "output_type": "execute_result"
    }
   ],
   "source": [
    "import pretty_midi as pm\n",
    "import scipy\n",
    "import os\n",
    "import matplotlib.pyplot as plt\n",
    "import glob\n",
    "import numpy as np\n",
    "import tensorflow as tf\n",
    "tf.enable_eager_execution()\n",
    "\n",
    "\n",
    "if not os.getcwd().endswith(\"/music\"):\n",
    "    os.chdir(\"music\")\n",
    "\n",
    "# infにmidiを読み込む\n",
    "inf = pm.PrettyMIDI('example.mid')\n",
    "inf.instruments\n",
    "\n",
    "#中身の確認\n",
    "x = inf.instruments[0]\n",
    "print(len(x.notes))\n",
    "print(x.is_drum)\n",
    "print(x.name)\n",
    "print(x.get_pitch_class_histogram())\n",
    "\n",
    "x.program"
   ]
  },
  {
   "cell_type": "code",
   "execution_count": 3,
   "metadata": {
    "colab": {
     "base_uri": "https://localhost:8080/",
     "height": 181
    },
    "colab_type": "code",
    "id": "SXec2wwwa4n2",
    "outputId": "e7146404-feec-4116-8c36-a80a5eaf2481"
   },
   "outputs": [
    {
     "name": "stdout",
     "output_type": "stream",
     "text": [
      "Tempo: 155.833489\n",
      "(128, 72)\n"
     ]
    },
    {
     "data": {
      "text/plain": [
       "<matplotlib.image.AxesImage at 0xb3e91f350>"
      ]
     },
     "execution_count": 3,
     "metadata": {},
     "output_type": "execute_result"
    },
    {
     "data": {
      "image/png": "[encoded data removed]",
      "text/plain": [
       "<Figure size 1008x648 with 1 Axes>"
      ]
     },
     "metadata": {
      "needs_background": "light"
     },
     "output_type": "display_data"
    }
   ],
   "source": [
    "# ドラムを使わない。音符の多い8つのトラック(intrument)に限定\n",
    "def IsolateMelody(dat):\n",
    "  interesting = [i for i in dat.instruments if lambda i: len(i.notes)>0 and not i.is_drum]\n",
    "  interesting = sorted(interesting, reverse=True, key=lambda i: len(i.notes))\n",
    "  return interesting[0:8]\n",
    "\n",
    "# 8つのトラックを1つ目に全部入れる。\n",
    "def MergeInstruments(insts):\n",
    "  out = insts[0]\n",
    "  out.name = \"merged\"\n",
    "  for inst in insts[1:]:\n",
    "    out.notes += inst.notes\n",
    "  return out\n",
    "\n",
    "inf = pm.PrettyMIDI('example.mid')\n",
    "out = pm.PrettyMIDI()\n",
    "out.instruments = [MergeInstruments(IsolateMelody(inf))]\n",
    "out.write(\"testout.mid\")\n",
    "print(\"Tempo: %f\" % out.estimate_tempo())\n",
    "pr = out.get_piano_roll(fs=out.estimate_tempo()/60/2)\n",
    "#pr = out.get_chroma(times=out.get_beats())\n",
    "print(pr.shape)\n",
    "\n",
    "fig = plt.figure(figsize=(14, 9))\n",
    "ax  = fig.add_subplot(1, 1, 1)\n",
    "plt.imshow(pr)"
   ]
  },
  {
   "cell_type": "code",
   "execution_count": 4,
   "metadata": {
    "colab": {
     "base_uri": "https://localhost:8080/",
     "height": 61
    },
    "colab_type": "code",
    "id": "u743vxCE-p9E",
    "outputId": "791e7ca3-ac58-4049-abe8-94b7ac122f91"
   },
   "outputs": [
    {
     "data": {
      "image/png": "[encoded data removed]",
      "text/plain": [
       "<Figure size 1008x648 with 1 Axes>"
      ]
     },
     "metadata": {
      "needs_background": "light"
     },
     "output_type": "display_data"
    }
   ],
   "source": [
    "def Datify(file):\n",
    "  md = pm.PrettyMIDI(file);\n",
    "  out = pm.PrettyMIDI()\n",
    "  out.instruments = [MergeInstruments(IsolateMelody(md))]\n",
    "  dat = {'src': file, 'midi': md, 'simplified': out}\n",
    "  dat['tempo'] = out.estimate_tempo()\n",
    "  dat['fs'] = out.estimate_tempo()/60*4\n",
    "  dat['frames'] = out.get_end_time() / dat['fs']\n",
    "  dat['pr'] = out.get_piano_roll(dat['fs'])\n",
    "  return dat\n",
    "\n",
    "def Sequify(file):\n",
    "  return Datify(file)['pr'];\n",
    "\n",
    "def ExpSeq(pr):\n",
    "  # We need to broadcast the image array such that it has a batch dimension\n",
    "  # https://github.com/tensorflow/models/blob/master/research/nst_blogpost/4_Neural_Style_Transfer_with_Eager_Execution.ipynb\n",
    "  return np.expand_dims(pr, axis=0)\n",
    "\n",
    "def SqSeq(pr):\n",
    "  return np.squeeze(pr, axis=0)\n",
    "\n",
    "def Pr(dat):\n",
    "  return dat['pr']\n",
    "\n",
    "def PlotPR(pr):\n",
    "  fig = plt.figure(figsize=(14, 9))\n",
    "  ax  = fig.add_subplot(1, 1, 1)\n",
    "  #img = SqSeq(pr)\n",
    "  img = pr\n",
    "  plt.imshow(img)\n",
    "\n",
    "PlotPR(Sequify(\"example.mid\"))"
   ]
  },
  {
   "cell_type": "code",
   "execution_count": 5,
   "metadata": {
    "colab": {
     "base_uri": "https://localhost:8080/",
     "height": 73
    },
    "colab_type": "code",
    "id": "fO45Sr_DclWc",
    "outputId": "46bae96e-6a3a-4c80-88e8-ebd18e228284"
   },
   "outputs": [],
   "source": [
    "if True:\n",
    "  corpus = [Datify(file) for file in sorted(glob.glob(\"liszt/*.mid\"))]"
   ]
  },
  {
   "cell_type": "code",
   "execution_count": 6,
   "metadata": {
    "colab": {
     "base_uri": "https://localhost:8080/",
     "height": 53
    },
    "colab_type": "code",
    "id": "8EggFl8JOEZ3",
    "outputId": "f33d7f0e-5b8d-4765-855e-3ce205977bc2"
   },
   "outputs": [
    {
     "name": "stdout",
     "output_type": "stream",
     "text": [
      "11\n",
      "(128, 13400)\n"
     ]
    }
   ],
   "source": [
    "print(len(corpus))\n",
    "print(corpus[0]['pr'].shape)"
   ]
  },
  {
   "cell_type": "code",
   "execution_count": 7,
   "metadata": {
    "colab": {},
    "colab_type": "code",
    "id": "JFyJq4abWVl_"
   },
   "outputs": [],
   "source": [
    "# 学習して生成したpiano rollをmidi fileを元に戻す\n",
    "import pretty_midi\n",
    "def piano_roll_to_pretty_midi(piano_roll, fs=100, program=1):\n",
    "    '''Convert a Piano Roll array into a PrettyMidi object\n",
    "     with a single instrument.\n",
    "    Parameters\n",
    "    ----------\n",
    "    piano_roll : np.ndarray, shape=(128,frames), dtype=int\n",
    "        Piano roll of one instrument\n",
    "    fs : int\n",
    "        Sampling frequency of the columns, i.e. each column is spaced apart\n",
    "        by ``1./fs`` seconds.\n",
    "    program : int\n",
    "        The program number of the instrument.\n",
    "    Returns\n",
    "    -------\n",
    "    midi_object : pretty_midi.PrettyMIDI\n",
    "        A pretty_midi.PrettyMIDI class instance describing\n",
    "        the piano roll.\n",
    "    '''\n",
    "    notes, frames = piano_roll.shape\n",
    "    pm = pretty_midi.PrettyMIDI()\n",
    "    instrument = pretty_midi.Instrument(program=program)\n",
    "\n",
    "    # pad 1 column of zeros so we can acknowledge inital and ending events\n",
    "    piano_roll = np.pad(piano_roll, [(0, 0), (1, 1)], 'constant')\n",
    "\n",
    "    # use changes in velocities to find note on / note off events\n",
    "    velocity_changes = np.nonzero(np.diff(piano_roll).T)\n",
    "\n",
    "    # keep track on velocities and note on times\n",
    "    prev_velocities = np.zeros(notes, dtype=int)\n",
    "    note_on_time = np.zeros(notes)\n",
    "\n",
    "    for time, note in zip(*velocity_changes):\n",
    "        # use time + 1 because of padding above\n",
    "        velocity = piano_roll[note, time + 1]\n",
    "        time = time / fs\n",
    "        if velocity > 0.004:\n",
    "            if prev_velocities[note] == 0:\n",
    "                note_on_time[note] = time\n",
    "                prev_velocities[note] = 100 # krispop changed: velocity → 100\n",
    "        else:\n",
    "            pm_note = pretty_midi.Note(\n",
    "                velocity=prev_velocities[note],\n",
    "                pitch=note,\n",
    "                start=note_on_time[note],\n",
    "                end=time)\n",
    "            instrument.notes.append(pm_note)\n",
    "            prev_velocities[note] = 0\n",
    "    pm.instruments.append(instrument)\n",
    "    return pm"
   ]
  },
  {
   "cell_type": "code",
   "execution_count": 9,
   "metadata": {
    "colab": {
     "base_uri": "https://localhost:8080/",
     "height": 181
    },
    "colab_type": "code",
    "id": "xX18D0PwcyHD",
    "outputId": "0eb94d10-e69e-480c-9b49-ea53d665670e"
   },
   "outputs": [
    {
     "name": "stdout",
     "output_type": "stream",
     "text": [
      "Wrote: liszt/liz_donjuan.mid @ 13.260349837994438\n",
      "{'pr': array([[0., 0., 0., ..., 0., 0., 0.],\n",
      "       [0., 0., 0., ..., 0., 0., 0.],\n",
      "       [0., 0., 0., ..., 0., 0., 0.],\n",
      "       ...,\n",
      "       [0., 0., 0., ..., 0., 0., 0.],\n",
      "       [0., 0., 0., ..., 0., 0., 0.],\n",
      "       [0., 0., 0., ..., 0., 0., 0.]]), 'src': 'liszt/liz_donjuan.mid', 'fs': 13.260349837994438, 'midi': <pretty_midi.pretty_midi.PrettyMIDI object at 0x111039710>, 'tempo': 198.90524756991658, 'simplified': <pretty_midi.pretty_midi.PrettyMIDI object at 0x110966e90>, 'frames': 76.21065079688408}\n"
     ]
    }
   ],
   "source": [
    "# 前処理と後処理の確認。corp0-in.midがinput、corp0-simp.midが前処理後、corp0-conv.midが\n",
    "# corp0-simp.midを一度piano rollに変換した後midiファイルに戻したもの。\n",
    "np.savetxt(\"corp0.tsv\", corpus[0]['pr'], delimiter=\"\\t\")\n",
    "piano_roll_to_pretty_midi(corpus[0]['pr'], corpus[0]['fs']).write(\"corp0-conv.mid\")\n",
    "print(\"Wrote: %s @ %s\" % (corpus[0]['src'], corpus[0]['fs']))\n",
    "corpus[0]['midi'].write(\"corp0-in.mid\")\n",
    "corpus[0]['simplified'].write(\"corp0-simp.mid\")\n",
    "print(corpus[0])"
   ]
  },
  {
   "cell_type": "code",
   "execution_count": 18,
   "metadata": {
    "colab": {
     "base_uri": "https://localhost:8080/",
     "height": 269
    },
    "colab_type": "code",
    "id": "hLwCr8gvmPZK",
    "outputId": "0da67570-d459-4a21-adc4-20a55538ae21"
   },
   "outputs": [
    {
     "data": {
      "image/png": "[encoded data removed]",
      "text/plain": [
       "<Figure size 432x288 with 1 Axes>"
      ]
     },
     "metadata": {
      "needs_background": "light"
     },
     "output_type": "display_data"
    }
   ],
   "source": [
    "ex = corpus[0]['pr']\n",
    "\n",
    "#ref https://www.tensorflow.org/tutorials/sequences/text_generation\n",
    "\n",
    "seq_length = 100\n",
    "examples_per_epoch = ex.shape[1]\n",
    "pr_dataset = tf.data.Dataset.from_tensor_slices(tf.cast(ex.T, tf.float32)) #\"\".T\"は転置\n",
    "pr_dataset.output_shapes\n",
    "\n",
    "#for i in pr_dataset.take(5):\n",
    "#  print(i.numpy())\n",
    "#  print(i.numpy().shape)\n",
    "\n",
    "sequences = pr_dataset.batch(seq_length+1, drop_remainder=True)\n",
    "\n",
    "for item in sequences.take(3):\n",
    "  plt.imshow(item.numpy())"
   ]
  },
  {
   "cell_type": "code",
   "execution_count": 19,
   "metadata": {},
   "outputs": [
    {
     "data": {
      "image/png": "[encoded data removed]",
      "text/plain": [
       "<Figure size 432x288 with 1 Axes>"
      ]
     },
     "metadata": {
      "needs_background": "light"
     },
     "output_type": "display_data"
    }
   ],
   "source": [
    "def split_input_target(chunk):\n",
    "    input_text = chunk[:-1]\n",
    "    target_text = chunk[1:]\n",
    "    return input_text, target_text\n",
    "\n",
    "dataset = sequences.map(split_input_target)\n",
    "\n",
    "for item in sequences.take(3):\n",
    " plt.imshow(item.numpy())"
   ]
  },
  {
   "cell_type": "code",
   "execution_count": 20,
   "metadata": {},
   "outputs": [
    {
     "data": {
      "text/plain": [
       "<BatchDataset shapes: ((64, 100, 128), (64, 100, 128)), types: (tf.float32, tf.float32)>"
      ]
     },
     "execution_count": 20,
     "metadata": {},
     "output_type": "execute_result"
    }
   ],
   "source": [
    "BATCH_SIZE = 64\n",
    "steps_per_epoch = examples_per_epoch//BATCH_SIZE\n",
    "\n",
    "# Buffer size to shuffle the dataset\n",
    "# (TF data is designed to work with possibly infinite sequences, \n",
    "# so it doesn't attempt to shuffle the entire sequence in memory. Instead, \n",
    "# it maintains a buffer in which it shuffles elements).\n",
    "BUFFER_SIZE = 10000\n",
    "\n",
    "dataset = dataset.shuffle(BUFFER_SIZE).batch(BATCH_SIZE, drop_remainder=True)\n",
    "#ref https://www.tensorflow.org/api_docs/python/tf/contrib/data/batch_and_drop_remainder\n",
    "\n",
    "dataset"
   ]
  },
  {
   "cell_type": "code",
   "execution_count": 56,
   "metadata": {},
   "outputs": [
    {
     "name": "stdout",
     "output_type": "stream",
     "text": [
      "WARNING:tensorflow:No training configuration found in save file: the model was *not* compiled. Compile it manually.\n",
      "_________________________________________________________________\n",
      "Layer (type)                 Output Shape              Param #   \n",
      "=================================================================\n",
      "dense_4 (Dense)              (64, 100, 256)            33024     \n",
      "_________________________________________________________________\n",
      "gru_2 (GRU)                  (64, 100, 1024)           3935232   \n",
      "_________________________________________________________________\n",
      "dense_5 (Dense)              (64, 100, 128)            131200    \n",
      "=================================================================\n",
      "Total params: 4,099,456\n",
      "Trainable params: 4,099,456\n",
      "Non-trainable params: 0\n",
      "_________________________________________________________________\n"
     ]
    }
   ],
   "source": [
    "# The embedding dimension\n",
    "embedding_dim = 256\n",
    "# The number of notes in one column of piano roll.\n",
    "keys_dim = 128\n",
    "rnn_units = 1024\n",
    "\n",
    "# if tf.test.is_gpu_available():\n",
    "#   rnn = tf.keras.layers.CuDNNGRU\n",
    "# else:\n",
    "#   import functools\n",
    "#   rnn = functools.partial(\n",
    "#     tf.keras.layers.GRU, recurrent_activation='sigmoid')\n",
    "#モデルがあったら読み込み、なければ作る。\n",
    "if os.path.exists(\"model.h5\"):\n",
    "    model = tf.keras.models.load_model(\"model.h5\")\n",
    "else:\n",
    "    model = tf.keras.Sequential([\n",
    "        tf.keras.layers.Dense(\n",
    "            embedding_dim,\n",
    "            batch_input_shape=[BATCH_SIZE, seq_length, keys_dim]),\n",
    "        tf.keras.layers.GRU(\n",
    "            rnn_units,\n",
    "            recurrent_activation='sigmoid',\n",
    "             return_sequences=True, \n",
    "             recurrent_initializer='glorot_uniform',\n",
    "             stateful=True),\n",
    "        tf.keras.layers.Dense(keys_dim),\n",
    "    ])\n",
    "\n",
    "model.summary()\n",
    "\n",
    "model.compile(loss=\"mean_squared_error\", optimizer=tf.train.AdamOptimizer())"
   ]
  },
  {
   "cell_type": "markdown",
   "metadata": {},
   "source": [
    "### Try the model"
   ]
  },
  {
   "cell_type": "code",
   "execution_count": 23,
   "metadata": {},
   "outputs": [
    {
     "name": "stdout",
     "output_type": "stream",
     "text": [
      "(TensorShape([Dimension(64), Dimension(100), Dimension(128)]), '# (batch_size, sequence_length, vocab_size)')\n"
     ]
    }
   ],
   "source": [
    "for input_example_batch, target_example_batch in dataset.take(1): \n",
    "  example_batch_predictions = model(input_example_batch)\n",
    "  print(example_batch_predictions.shape, \"# (batch_size, sequence_length, vocab_size)\")"
   ]
  },
  {
   "cell_type": "code",
   "execution_count": 27,
   "metadata": {},
   "outputs": [
    {
     "data": {
      "text/plain": [
       "<matplotlib.image.AxesImage at 0xb4039a350>"
      ]
     },
     "execution_count": 27,
     "metadata": {},
     "output_type": "execute_result"
    },
    {
     "data": {
      "image/png": "[encoded data removed]",
      "text/plain": [
       "<Figure size 432x288 with 1 Axes>"
      ]
     },
     "metadata": {
      "needs_background": "light"
     },
     "output_type": "display_data"
    }
   ],
   "source": [
    "plt.imshow(example_batch_predictions.numpy()[0])"
   ]
  },
  {
   "cell_type": "code",
   "execution_count": 29,
   "metadata": {},
   "outputs": [],
   "source": [
    "piano_roll_to_pretty_midi(example_batch_predictions.numpy()[0]).write(\"try-the-model.mid\")"
   ]
  },
  {
   "cell_type": "markdown",
   "metadata": {},
   "source": [
    "### Train the model"
   ]
  },
  {
   "cell_type": "code",
   "execution_count": 53,
   "metadata": {},
   "outputs": [
    {
     "ename": "TypeError",
     "evalue": "'module' object is not callable",
     "output_type": "error",
     "traceback": [
      "\u001b[0;31m---------------------------------------------------------------------------\u001b[0m",
      "\u001b[0;31mTypeError\u001b[0m                                 Traceback (most recent call last)",
      "\u001b[0;32m<ipython-input-53-18b257cb137d>\u001b[0m in \u001b[0;36m<module>\u001b[0;34m()\u001b[0m\n\u001b[1;32m      1\u001b[0m \u001b[0mmodel\u001b[0m\u001b[0;34m.\u001b[0m\u001b[0mcompile\u001b[0m\u001b[0;34m(\u001b[0m\u001b[0mloss\u001b[0m\u001b[0;34m=\u001b[0m\u001b[0;34m\"mean_squared_error\"\u001b[0m\u001b[0;34m,\u001b[0m \u001b[0moptimizer\u001b[0m\u001b[0;34m=\u001b[0m\u001b[0mtf\u001b[0m\u001b[0;34m.\u001b[0m\u001b[0mtrain\u001b[0m\u001b[0;34m.\u001b[0m\u001b[0mAdamOptimizer\u001b[0m\u001b[0;34m(\u001b[0m\u001b[0;34m)\u001b[0m\u001b[0;34m)\u001b[0m\u001b[0;34m\u001b[0m\u001b[0m\n\u001b[0;32m----> 2\u001b[0;31m \u001b[0mmodel\u001b[0m \u001b[0;34m=\u001b[0m \u001b[0mtf\u001b[0m\u001b[0;34m.\u001b[0m\u001b[0mkeras\u001b[0m\u001b[0;34m.\u001b[0m\u001b[0mmodels\u001b[0m\u001b[0;34m(\u001b[0m\u001b[0;34m\"model.h5\"\u001b[0m\u001b[0;34m)\u001b[0m\u001b[0;34m\u001b[0m\u001b[0m\n\u001b[0m\u001b[1;32m      3\u001b[0m \u001b[0;31m# model.fit(dataset.repeat(), epochs=3, steps_per_epoch=steps_per_epoch)\u001b[0m\u001b[0;34m\u001b[0m\u001b[0;34m\u001b[0m\u001b[0m\n",
      "\u001b[0;31mTypeError\u001b[0m: 'module' object is not callable"
     ]
    }
   ],
   "source": [
    "#  model.fit(dataset.repeat(), epochs=3, steps_per_epoch=steps_per_epoch)"
   ]
  },
  {
   "cell_type": "code",
   "execution_count": 57,
   "metadata": {},
   "outputs": [
    {
     "data": {
      "image/png": "[encoded data removed]",
      "text/plain": [
       "<Figure size 432x288 with 1 Axes>"
      ]
     },
     "metadata": {
      "needs_background": "light"
     },
     "output_type": "display_data"
    }
   ],
   "source": [
    "for input_example_batch, target_example_batch in dataset.take(1): \n",
    "    plt.imshow(target_example_batch.numpy()[0])\n",
    "    piano_roll_to_pretty_midi(target_example_batch.numpy()[0].T).write(\"train-the-model-target.mid\")\n",
    "    example_batch_predictions_2 = model(input_example_batch)\n",
    "piano_roll_to_pretty_midi(example_batch_predictions_2.numpy()[0].T).write(\"train-the-model.mid\")"
   ]
  },
  {
   "cell_type": "code",
   "execution_count": 58,
   "metadata": {},
   "outputs": [
    {
     "data": {
      "text/plain": [
       "<matplotlib.image.AxesImage at 0xb439fa750>"
      ]
     },
     "execution_count": 58,
     "metadata": {},
     "output_type": "execute_result"
    },
    {
     "data": {
      "image/png": "[encoded data removed]",
      "text/plain": [
       "<Figure size 432x288 with 1 Axes>"
      ]
     },
     "metadata": {
      "needs_background": "light"
     },
     "output_type": "display_data"
    }
   ],
   "source": [
    "plt.imshow(example_batch_predictions_2.numpy()[0])"
   ]
  },
  {
   "cell_type": "code",
   "execution_count": 51,
   "metadata": {},
   "outputs": [
    {
     "name": "stdout",
     "output_type": "stream",
     "text": [
      "WARNING:tensorflow:TensorFlow optimizers do not make it possible to access optimizer attributes or optimizer state after instantiation. As a result, we cannot save the optimizer as part of the model save file.You will have to compile your model again after loading it. Prefer using a Keras optimizer instead (see keras.io/optimizers).\n"
     ]
    }
   ],
   "source": [
    "model.save(\"model.h5\")"
   ]
  },
  {
   "cell_type": "code",
   "execution_count": 50,
   "metadata": {},
   "outputs": [],
   "source": []
  }
 ],
 "metadata": {
  "colab": {
   "collapsed_sections": [],
   "name": "music playground.ipynb",
   "provenance": [],
   "version": "0.3.2"
  },
  "kernelspec": {
   "display_name": "Python 2",
   "language": "python",
   "name": "python2"
  },
  "language_info": {
   "codemirror_mode": {
    "name": "ipython",
    "version": 2
   },
   "file_extension": ".py",
   "mimetype": "text/x-python",
   "name": "python",
   "nbconvert_exporter": "python",
   "pygments_lexer": "ipython2",
   "version": "2.7.15"
  }
 },
 "nbformat": 4,
 "nbformat_minor": 1
}

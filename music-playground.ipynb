{
 "cells": [
  {
   "cell_type": "code",
   "execution_count": 2,
   "metadata": {
    "colab": {
     "base_uri": "https://localhost:8080/",
     "height": 107
    },
    "colab_type": "code",
    "id": "BHLh_kOoMAQo",
    "outputId": "4f2647d6-06dc-4c3b-b413-8b5461471833"
   },
   "outputs": [
    {
     "name": "stdout",
     "output_type": "stream",
     "text": [
      "170\n",
      "False\n",
      "\n",
      "[30.  0. 10.  2. 22. 32.  6. 20.  0. 28. 20.  0.]\n"
     ]
    },
    {
     "data": {
      "text/plain": [
       "0"
      ]
     },
     "execution_count": 2,
     "metadata": {},
     "output_type": "execute_result"
    }
   ],
   "source": [
    "import pretty_midi as pm\n",
    "import scipy\n",
    "import os\n",
    "import matplotlib.pyplot as plt\n",
    "import glob\n",
    "import numpy as np\n",
    "import tensorflow as tf\n",
    "tf.enable_eager_execution()\n",
    "\n",
    "\n",
    "if not os.getcwd().endswith(\"/music\"):\n",
    "    os.chdir(\"music\")\n",
    "\n",
    "# infにmidiを読み込む\n",
    "inf = pm.PrettyMIDI('example.mid')\n",
    "inf.instruments\n",
    "\n",
    "#中身の確認\n",
    "x = inf.instruments[0]\n",
    "print(len(x.notes))\n",
    "print(x.is_drum)\n",
    "print(x.name)\n",
    "print(x.get_pitch_class_histogram())\n",
    "\n",
    "x.program"
   ]
  },
  {
   "cell_type": "code",
   "execution_count": 3,
   "metadata": {
    "colab": {
     "base_uri": "https://localhost:8080/",
     "height": 181
    },
    "colab_type": "code",
    "id": "SXec2wwwa4n2",
    "outputId": "e7146404-feec-4116-8c36-a80a5eaf2481"
   },
   "outputs": [
    {
     "name": "stdout",
     "output_type": "stream",
     "text": [
      "Tempo: 155.833489\n",
      "(128, 72)\n"
     ]
    },
    {
     "data": {
      "text/plain": [
       "<matplotlib.image.AxesImage at 0xb3e91f350>"
      ]
     },
     "execution_count": 3,
     "metadata": {},
     "output_type": "execute_result"
    },
    {
     "data": {
      "image/png": "[encoded data removed]",
      "text/plain": [
       "<Figure size 1008x648 with 1 Axes>"
      ]
     },
     "metadata": {
      "needs_background": "light"
     },
     "output_type": "display_data"
    }
   ],
   "source": [
    "# ドラムを使わない。音符の多い8つのトラック(intrument)に限定\n",
    "def IsolateMelody(dat):\n",
    "  interesting = [i for i in dat.instruments if lambda i: len(i.notes)>0 and not i.is_drum]\n",
    "  interesting = sorted(interesting, reverse=True, key=lambda i: len(i.notes))\n",
    "  return interesting[0:8]\n",
    "\n",
    "# 8つのトラックを1つ目に全部入れる。\n",
    "def MergeInstruments(insts):\n",
    "  out = insts[0]\n",
    "  out.name = \"merged\"\n",
    "  for inst in insts[1:]:\n",
    "    out.notes += inst.notes\n",
    "  return out\n",
    "\n",
    "inf = pm.PrettyMIDI('example.mid')\n",
    "out = pm.PrettyMIDI()\n",
    "out.instruments = [MergeInstruments(IsolateMelody(inf))]\n",
    "out.write(\"testout.mid\")\n",
    "print(\"Tempo: %f\" % out.estimate_tempo())\n",
    "pr = out.get_piano_roll(fs=out.estimate_tempo()/60/2)\n",
    "#pr = out.get_chroma(times=out.get_beats())\n",
    "print(pr.shape)\n",
    "\n",
    "fig = plt.figure(figsize=(14, 9))\n",
    "ax  = fig.add_subplot(1, 1, 1)\n",
    "plt.imshow(pr)"
   ]
  },
  {
   "cell_type": "code",
   "execution_count": 4,
   "metadata": {
    "colab": {
     "base_uri": "https://localhost:8080/",
     "height": 61
    },
    "colab_type": "code",
    "id": "u743vxCE-p9E",
    "outputId": "791e7ca3-ac58-4049-abe8-94b7ac122f91"
   },
   "outputs": [
    {
     "data": {
      "image/png": "[encoded data removed]",
      "text/plain": [
       "<Figure size 1008x648 with 1 Axes>"
      ]
     },
     "metadata": {
      "needs_background": "light"
     },
     "output_type": "display_data"
    }
   ],
   "source": [
    "def Datify(file):\n",
    "  md = pm.PrettyMIDI(file);\n",
    "  out = pm.PrettyMIDI()\n",
    "  out.instruments = [MergeInstruments(IsolateMelody(md))]\n",
    "  dat = {'src': file, 'midi': md, 'simplified': out}\n",
    "  dat['tempo'] = out.estimate_tempo()\n",
    "  dat['fs'] = out.estimate_tempo()/60*4\n",
    "  dat['frames'] = out.get_end_time() / dat['fs']\n",
    "  dat['pr'] = out.get_piano_roll(dat['fs'])\n",
    "  return dat\n",
    "\n",
    "def Sequify(file):\n",
    "  return Datify(file)['pr'];\n",
    "\n",
    "def ExpSeq(pr):\n",
    "  # We need to broadcast the image array such that it has a batch dimension\n",
    "  # https://github.com/tensorflow/models/blob/master/research/nst_blogpost/4_Neural_Style_Transfer_with_Eager_Execution.ipynb\n",
    "  return np.expand_dims(pr, axis=0)\n",
    "\n",
    "def SqSeq(pr):\n",
    "  return np.squeeze(pr, axis=0)\n",
    "\n",
    "def Pr(dat):\n",
    "  return dat['pr']\n",
    "\n",
    "def PlotPR(pr):\n",
    "  fig = plt.figure(figsize=(14, 9))\n",
    "  ax  = fig.add_subplot(1, 1, 1)\n",
    "  #img = SqSeq(pr)\n",
    "  img = pr\n",
    "  plt.imshow(img)\n",
    "\n",
    "PlotPR(Sequify(\"example.mid\"))"
   ]
  },
  {
   "cell_type": "code",
   "execution_count": 5,
   "metadata": {
    "colab": {
     "base_uri": "https://localhost:8080/",
     "height": 73
    },
    "colab_type": "code",
    "id": "fO45Sr_DclWc",
    "outputId": "46bae96e-6a3a-4c80-88e8-ebd18e228284"
   },
   "outputs": [],
   "source": [
    "if True:\n",
    "  corpus = [Datify(file) for file in sorted(glob.glob(\"liszt/*.mid\"))]"
   ]
  },
  {
   "cell_type": "code",
   "execution_count": 6,
   "metadata": {
    "colab": {
     "base_uri": "https://localhost:8080/",
     "height": 53
    },
    "colab_type": "code",
    "id": "8EggFl8JOEZ3",
    "outputId": "f33d7f0e-5b8d-4765-855e-3ce205977bc2"
   },
   "outputs": [
    {
     "name": "stdout",
     "output_type": "stream",
     "text": [
      "11\n",
      "(128, 13400)\n"
     ]
    }
   ],
   "source": [
    "print(len(corpus))\n",
    "print(corpus[0]['pr'].shape)"
   ]
  },
  {
   "cell_type": "code",
   "execution_count": 122,
   "metadata": {
    "colab": {},
    "colab_type": "code",
    "id": "JFyJq4abWVl_"
   },
   "outputs": [],
   "source": [
    "# 学習して生成したpiano rollをmidi fileを元に戻す\n",
    "import pretty_midi\n",
    "def piano_roll_to_pretty_midi(piano_roll, fs=100.0, program=1):\n",
    "    '''Convert a Piano Roll array into a PrettyMidi object\n",
    "     with a single instrument.\n",
    "    Parameters\n",
    "    ----------\n",
    "    piano_roll : np.ndarray, shape=(128,frames), dtype=int\n",
    "        Piano roll of one instrument\n",
    "    fs : int\n",
    "        Sampling frequency of the columns, i.e. each column is spaced apart\n",
    "        by ``1./fs`` seconds.\n",
    "    program : int\n",
    "        The program number of the instrument.\n",
    "    Returns\n",
    "    -------\n",
    "    midi_object : pretty_midi.PrettyMIDI\n",
    "        A pretty_midi.PrettyMIDI class instance describing\n",
    "        the piano roll.\n",
    "    '''\n",
    "    notes, frames = piano_roll.shape\n",
    "    pm = pretty_midi.PrettyMIDI()\n",
    "    instrument = pretty_midi.Instrument(program=program)\n",
    "\n",
    "    # pad 1 column of zeros so we can acknowledge inital and ending events\n",
    "    piano_roll = np.pad(piano_roll, [(0, 0), (1, 1)], 'constant')\n",
    "\n",
    "    # use changes in velocities to find note on / note off events\n",
    "    velocity_changes = np.nonzero(np.abs(np.diff(piano_roll).T)>10) # 要素間の差分をとる\n",
    "\n",
    "    # keep track on velocities and note on times\n",
    "    prev_velocities = np.zeros(notes, dtype=int)\n",
    "    note_on_time = np.zeros(notes)\n",
    "\n",
    "    for time, note in zip(*velocity_changes):\n",
    "        # use time + 1 because of padding above\n",
    "        velocity = piano_roll[note, time + 1]\n",
    "        time = time / fs\n",
    "        if velocity > 20:\n",
    "            if prev_velocities[note] == 0:\n",
    "                note_on_time[note] = time\n",
    "                prev_velocities[note] = np.clip(velocity, 0, 127)\n",
    "        else:\n",
    "            pm_note = pretty_midi.Note(\n",
    "                velocity=prev_velocities[note],\n",
    "                pitch=note,\n",
    "                start=note_on_time[note],\n",
    "                end=time)\n",
    "            instrument.notes.append(pm_note)\n",
    "            prev_velocities[note] = 0\n",
    "    pm.instruments.append(instrument)\n",
    "    return pm"
   ]
  },
  {
   "cell_type": "code",
   "execution_count": 123,
   "metadata": {
    "colab": {
     "base_uri": "https://localhost:8080/",
     "height": 181
    },
    "colab_type": "code",
    "id": "xX18D0PwcyHD",
    "outputId": "0eb94d10-e69e-480c-9b49-ea53d665670e"
   },
   "outputs": [
    {
     "name": "stdout",
     "output_type": "stream",
     "text": [
      "Wrote: liszt/liz_donjuan.mid @ 13.260349837994438\n",
      "{'pr': array([[0., 0., 0., ..., 0., 0., 0.],\n",
      "       [0., 0., 0., ..., 0., 0., 0.],\n",
      "       [0., 0., 0., ..., 0., 0., 0.],\n",
      "       ...,\n",
      "       [0., 0., 0., ..., 0., 0., 0.],\n",
      "       [0., 0., 0., ..., 0., 0., 0.],\n",
      "       [0., 0., 0., ..., 0., 0., 0.]]), 'src': 'liszt/liz_donjuan.mid', 'fs': 13.260349837994438, 'midi': <pretty_midi.pretty_midi.PrettyMIDI object at 0x111039710>, 'tempo': 198.90524756991658, 'simplified': <pretty_midi.pretty_midi.PrettyMIDI object at 0x110966e90>, 'frames': 76.21065079688408}\n"
     ]
    }
   ],
   "source": [
    "# 前処理と後処理の確認。corp0-in.midがinput、corp0-simp.midが前処理後、corp0-conv.midが\n",
    "# corp0-simp.midを一度piano rollに変換した後midiファイルに戻したもの。\n",
    "np.savetxt(\"corp0.tsv\", corpus[0]['pr'], delimiter=\"\\t\")\n",
    "piano_roll_to_pretty_midi(corpus[0]['pr'], corpus[0]['fs']).write(\"corp0-conv.mid\")\n",
    "print(\"Wrote: %s @ %s\" % (corpus[0]['src'], corpus[0]['fs']))\n",
    "corpus[0]['midi'].write(\"corp0-in.mid\")\n",
    "corpus[0]['simplified'].write(\"corp0-simp.mid\")\n",
    "print(corpus[0])"
   ]
  },
  {
   "cell_type": "code",
   "execution_count": 124,
   "metadata": {
    "colab": {
     "base_uri": "https://localhost:8080/",
     "height": 269
    },
    "colab_type": "code",
    "id": "hLwCr8gvmPZK",
    "outputId": "0da67570-d459-4a21-adc4-20a55538ae21"
   },
   "outputs": [
    {
     "data": {
      "image/png": "[encoded data removed]",
      "text/plain": [
       "<Figure size 432x288 with 1 Axes>"
      ]
     },
     "metadata": {
      "needs_background": "light"
     },
     "output_type": "display_data"
    }
   ],
   "source": [
    "ex = corpus[0]['pr']\n",
    "\n",
    "#ref https://www.tensorflow.org/tutorials/sequences/text_generation\n",
    "\n",
    "seq_length = 100\n",
    "examples_per_epoch = ex.shape[1]\n",
    "pr_dataset = tf.data.Dataset.from_tensor_slices(tf.cast(ex.T, tf.float32)) #\"\".T\"は転置\n",
    "pr_dataset.output_shapes\n",
    "\n",
    "#for i in pr_dataset.take(5):\n",
    "#  print(i.numpy())\n",
    "#  print(i.numpy().shape)\n",
    "\n",
    "sequences = pr_dataset.batch(seq_length+1, drop_remainder=True)\n",
    "\n",
    "for item in sequences.take(3):\n",
    "  plt.imshow(item.numpy())"
   ]
  },
  {
   "cell_type": "code",
   "execution_count": 125,
   "metadata": {},
   "outputs": [
    {
     "data": {
      "image/png": "[encoded data removed]",
      "text/plain": [
       "<Figure size 432x288 with 1 Axes>"
      ]
     },
     "metadata": {
      "needs_background": "light"
     },
     "output_type": "display_data"
    }
   ],
   "source": [
    "def split_input_target(chunk):\n",
    "    input_text = chunk[:-1]\n",
    "    target_text = chunk[1:]\n",
    "    return input_text, target_text\n",
    "\n",
    "dataset = sequences.map(split_input_target)\n",
    "\n",
    "for item in sequences.take(3):\n",
    " plt.imshow(item.numpy())"
   ]
  },
  {
   "cell_type": "code",
   "execution_count": 126,
   "metadata": {},
   "outputs": [
    {
     "data": {
      "text/plain": [
       "<BatchDataset shapes: ((64, 100, 128), (64, 100, 128)), types: (tf.float32, tf.float32)>"
      ]
     },
     "execution_count": 126,
     "metadata": {},
     "output_type": "execute_result"
    }
   ],
   "source": [
    "BATCH_SIZE = 64\n",
    "steps_per_epoch = examples_per_epoch//BATCH_SIZE\n",
    "\n",
    "# Buffer size to shuffle the dataset\n",
    "# (TF data is designed to work with possibly infinite sequences, \n",
    "# so it doesn't attempt to shuffle the entire sequence in memory. Instead, \n",
    "# it maintains a buffer in which it shuffles elements).\n",
    "BUFFER_SIZE = 10000\n",
    "\n",
    "dataset = dataset.shuffle(BUFFER_SIZE).batch(BATCH_SIZE, drop_remainder=True)\n",
    "#ref https://www.tensorflow.org/api_docs/python/tf/contrib/data/batch_and_drop_remainder\n",
    "\n",
    "dataset"
   ]
  },
  {
   "cell_type": "code",
   "execution_count": 145,
   "metadata": {},
   "outputs": [
    {
     "name": "stdout",
     "output_type": "stream",
     "text": [
      "_________________________________________________________________\n",
      "Layer (type)                 Output Shape              Param #   \n",
      "=================================================================\n",
      "dense_12 (Dense)             (64, 100, 256)            33024     \n",
      "_________________________________________________________________\n",
      "gru_6 (GRU)                  (64, 100, 1024)           3935232   \n",
      "_________________________________________________________________\n",
      "dense_13 (Dense)             (64, 100, 128)            131200    \n",
      "=================================================================\n",
      "Total params: 4,099,456\n",
      "Trainable params: 4,099,456\n",
      "Non-trainable params: 0\n",
      "_________________________________________________________________\n"
     ]
    }
   ],
   "source": [
    "# The embedding dimension\n",
    "embedding_dim = 256\n",
    "# The number of notes in one column of piano roll.\n",
    "keys_dim = 128\n",
    "rnn_units = 1024\n",
    "\n",
    "def build_model(batch_size, seq_length):\n",
    "    return tf.keras.Sequential([\n",
    "        tf.keras.layers.Dense(\n",
    "            embedding_dim,\n",
    "            batch_input_shape=[batch_size, seq_length, keys_dim]),\n",
    "        tf.keras.layers.GRU(\n",
    "            rnn_units,\n",
    "            recurrent_activation='sigmoid',\n",
    "             return_sequences=True, \n",
    "             recurrent_initializer='glorot_uniform',\n",
    "             stateful=True),\n",
    "        tf.keras.layers.Dense(keys_dim),\n",
    "    ])\n",
    "\n",
    "model = build_model(BATCH_SIZE, seq_length)\n",
    "\n",
    "#保存済みモデルがあったら読み込む。\n",
    "model_path = \"model.h5\"\n",
    "if os.path.exists(model_path):\n",
    "    model.load_weights(model_path)\n",
    "    \n",
    "model.summary()\n",
    "\n",
    "model.compile(loss=\"mean_squared_error\", optimizer=tf.train.AdamOptimizer())"
   ]
  },
  {
   "cell_type": "markdown",
   "metadata": {},
   "source": [
    "### Try the model"
   ]
  },
  {
   "cell_type": "code",
   "execution_count": 128,
   "metadata": {},
   "outputs": [
    {
     "name": "stdout",
     "output_type": "stream",
     "text": [
      "(TensorShape([Dimension(64), Dimension(100), Dimension(128)]), '# (batch_size, sequence_length, vocab_size)')\n"
     ]
    }
   ],
   "source": [
    "for input_example_batch, target_example_batch in dataset.take(1): \n",
    "  example_batch_predictions = model(input_example_batch)\n",
    "  print(example_batch_predictions.shape, \"# (batch_size, sequence_length, vocab_size)\")"
   ]
  },
  {
   "cell_type": "code",
   "execution_count": 129,
   "metadata": {},
   "outputs": [
    {
     "data": {
      "text/plain": [
       "<matplotlib.image.AxesImage at 0xc544cfad0>"
      ]
     },
     "execution_count": 129,
     "metadata": {},
     "output_type": "execute_result"
    },
    {
     "data": {
      "image/png": "[encoded data removed]",
      "text/plain": [
       "<Figure size 432x288 with 1 Axes>"
      ]
     },
     "metadata": {
      "needs_background": "light"
     },
     "output_type": "display_data"
    }
   ],
   "source": [
    "plt.imshow(example_batch_predictions.numpy()[0])"
   ]
  },
  {
   "cell_type": "code",
   "execution_count": 133,
   "metadata": {},
   "outputs": [],
   "source": [
    "piano_roll_to_pretty_midi(example_batch_predictions.numpy()[0]).write(\"try-the-model.mid\")"
   ]
  },
  {
   "cell_type": "markdown",
   "metadata": {},
   "source": [
    "### Train the model"
   ]
  },
  {
   "cell_type": "code",
   "execution_count": 134,
   "metadata": {},
   "outputs": [],
   "source": [
    "#  model.fit(dataset.repeat(), epochs=3, steps_per_epoch=steps_per_epoch)\n",
    "# model.save(\"model.h5\")"
   ]
  },
  {
   "cell_type": "code",
   "execution_count": 135,
   "metadata": {},
   "outputs": [
    {
     "data": {
      "image/png": "[encoded data removed]",
      "text/plain": [
       "<Figure size 432x288 with 1 Axes>"
      ]
     },
     "metadata": {
      "needs_background": "light"
     },
     "output_type": "display_data"
    }
   ],
   "source": [
    "for input_example_batch, target_example_batch in dataset.take(1): \n",
    "    plt.imshow(target_example_batch.numpy()[0])\n",
    "    piano_roll_to_pretty_midi(target_example_batch.numpy()[0].T).write(\"train-the-model-target.mid\")\n",
    "    example_batch_predictions_2 = model(input_example_batch)"
   ]
  },
  {
   "cell_type": "code",
   "execution_count": 136,
   "metadata": {},
   "outputs": [
    {
     "data": {
      "text/plain": [
       "<matplotlib.image.AxesImage at 0xc542905d0>"
      ]
     },
     "execution_count": 136,
     "metadata": {},
     "output_type": "execute_result"
    },
    {
     "data": {
      "image/png": "[encoded data removed]",
      "text/plain": [
       "<Figure size 432x288 with 1 Axes>"
      ]
     },
     "metadata": {
      "needs_background": "light"
     },
     "output_type": "display_data"
    }
   ],
   "source": [
    "piano_roll_to_pretty_midi(example_batch_predictions_2.numpy()[0].T).write(\"train-the-model.mid\")\n",
    "plt.imshow(example_batch_predictions_2.numpy()[0])"
   ]
  },
  {
   "cell_type": "code",
   "execution_count": 137,
   "metadata": {},
   "outputs": [
    {
     "name": "stdout",
     "output_type": "stream",
     "text": [
      "(array([ 0,  0,  0,  0,  0,  0,  0,  0,  0,  0,  0,  0,  2,  2,  2,  2,  2,\n",
      "        4,  4,  4,  4,  4,  4,  6,  6,  6,  7,  8,  8,  8,  8,  8,  8, 10,\n",
      "       10, 10, 10, 10, 11, 12, 12, 12, 12, 14, 14, 14, 16, 16, 16, 16, 18,\n",
      "       18, 18, 18, 20, 20, 20, 20, 20, 20, 22, 22, 22, 24, 24, 24, 24, 24,\n",
      "       26, 26, 26, 26, 26, 26, 28, 28, 28, 28, 28, 28, 30, 30, 30, 30, 31,\n",
      "       32, 32, 32, 32, 32, 34, 34, 34, 34, 36, 36, 36, 36, 36, 38, 38, 38,\n",
      "       38, 41, 41, 41, 41, 41, 43, 43, 43, 43, 43, 43, 45, 45, 45, 45, 45,\n",
      "       45, 46, 47, 47, 47, 49, 49, 49, 49, 49, 49, 49, 51, 51, 51, 51, 51,\n",
      "       52, 53, 53, 53, 53, 53, 55, 55, 55, 57, 57, 57, 57, 57, 57, 59, 59,\n",
      "       59, 59, 59, 60, 61, 61, 61, 61, 61, 61, 63, 63, 63, 65, 65, 65, 65,\n",
      "       65, 65, 67, 67, 67, 67, 69, 69, 69, 69, 69, 69, 71, 71, 71, 73, 73,\n",
      "       73, 73, 73, 73, 73, 75, 75, 75, 75, 75, 75, 77, 77, 77, 77, 77, 79,\n",
      "       79, 79, 79, 81, 81, 81, 81, 81, 83, 83, 83, 83, 83, 85, 85, 85, 85,\n",
      "       85, 85, 87, 87, 87, 89, 89, 89, 89, 89, 89, 89, 91, 91, 91, 92, 92,\n",
      "       92, 92, 94, 94, 94, 94, 94, 94, 96, 96, 96, 96, 98, 98, 98, 98, 98]), array([ 58,  62,  65,  68,  69,  70,  74,  77,  81,  85,  89,  95,  46,\n",
      "        53,  62,  70,  82,  58,  62,  65,  74,  77,  86,  53,  65,  77,\n",
      "        66,  58,  62,  65,  70,  74,  77,  34,  46,  62,  70,  74,  74,\n",
      "        58,  62,  65,  70,  53,  58,  62,  58,  62,  63,  75,  46,  55,\n",
      "        67,  79,  53,  58,  62,  65,  74,  77,  53,  65,  77,  58,  62,\n",
      "        70,  74,  77,  41,  46,  53,  65,  77,  82,  53,  60,  63,  65,\n",
      "        69,  72,  53,  60,  67,  79,  80,  60,  63,  65,  69,  81,  46,\n",
      "        58,  70,  82,  58,  62,  65,  74,  77,  53,  58,  70,  81,  58,\n",
      "        62,  65,  74,  77,  34,  46,  70,  82,  86,  94,  58,  62,  65,\n",
      "        74,  86,  89,  82,  46,  53,  82,  41,  58,  62,  65,  86,  89,\n",
      "        94,  34,  46,  74,  86,  98,  65,  58,  62,  65,  89,  94,  53,\n",
      "        82,  94,  58,  62,  65,  74,  86,  89,  46,  53,  77,  89, 101,\n",
      "        89,  58,  62,  65,  74,  82,  86,  53,  74,  77,  58,  62,  65,\n",
      "        82,  86,  89,  46,  70,  82,  94,  58,  62,  65,  74,  86,  89,\n",
      "        53,  77,  89,  58,  62,  65,  74,  82,  86,  89,  46,  58,  70,\n",
      "        74,  77,  86,  58,  62,  65,  77,  82,  41,  53,  62,  74,  58,\n",
      "        62,  65,  75,  87,  46,  70,  79,  91,  99,  58,  62,  65,  77,\n",
      "        89,  92,  53,  77,  89,  58,  62,  65,  82,  86,  89, 101,  46,\n",
      "        77,  94,  41,  65,  77,  89,  60,  63,  65,  72,  81,  84,  53,\n",
      "        74,  79,  91,  60,  63,  65,  81,  93]))\n"
     ]
    }
   ],
   "source": [
    "print(np.where((np.diff(example_batch_predictions_2.numpy()[0].T).T)>10))"
   ]
  },
  {
   "cell_type": "code",
   "execution_count": 138,
   "metadata": {},
   "outputs": [],
   "source": [
    "# 学習して生成したpiano rollをmidi fileを元に戻す\n",
    "import pretty_midi\n",
    "def piano_roll_to_pretty_midi(piano_roll, fs=100.0, program=1):\n",
    "    '''Convert a Piano Roll array into a PrettyMidi object\n",
    "     with a single instrument.\n",
    "    Parameters\n",
    "    ----------\n",
    "    piano_roll : np.ndarray, shape=(128,frames), dtype=int\n",
    "        Piano roll of one instrument\n",
    "    fs : int\n",
    "        Sampling frequency of the columns, i.e. each column is spaced apart\n",
    "        by ``1./fs`` seconds.\n",
    "    program : int\n",
    "        The program number of the instrument.\n",
    "    Returns\n",
    "    -------\n",
    "    midi_object : pretty_midi.PrettyMIDI\n",
    "        A pretty_midi.PrettyMIDI class instance describing\n",
    "        the piano roll.\n",
    "    '''\n",
    "    notes, frames = piano_roll.shape\n",
    "    pm = pretty_midi.PrettyMIDI()\n",
    "    instrument = pretty_midi.Instrument(program=program)\n",
    "\n",
    "    # pad 1 column of zeros so we can acknowledge inital and ending events\n",
    "    piano_roll = np.pad(piano_roll, [(0, 0), (1, 1)], 'constant')\n",
    "\n",
    "    # use changes in velocities to find note on / note off events\n",
    "    velocity_changes = np.nonzero(np.abs(np.diff(piano_roll).T)>10) # 要素間の差分をとる\n",
    "\n",
    "    # keep track on velocities and note on times\n",
    "    prev_velocities = np.zeros(notes, dtype=int)\n",
    "    note_on_time = np.zeros(notes)\n",
    "\n",
    "    for time, note in zip(*velocity_changes):\n",
    "        # use time + 1 because of padding above\n",
    "        velocity = piano_roll[note, time + 1]\n",
    "        time = time / fs\n",
    "        if velocity > 20:\n",
    "            if prev_velocities[note] == 0:\n",
    "                note_on_time[note] = time\n",
    "                prev_velocities[note] = np.clip(velocity, 0, 127)\n",
    "        else:\n",
    "            pm_note = pretty_midi.Note(\n",
    "                velocity=prev_velocities[note],\n",
    "                pitch=note,\n",
    "                start=note_on_time[note],\n",
    "                end=time)\n",
    "            instrument.notes.append(pm_note)\n",
    "            prev_velocities[note] = 0\n",
    "    pm.instruments.append(instrument)\n",
    "    return pm"
   ]
  },
  {
   "cell_type": "code",
   "execution_count": 139,
   "metadata": {},
   "outputs": [
    {
     "data": {
      "text/plain": [
       "<matplotlib.image.AxesImage at 0xc54a9ee10>"
      ]
     },
     "execution_count": 139,
     "metadata": {},
     "output_type": "execute_result"
    },
    {
     "data": {
      "image/png": "[encoded data removed]",
      "text/plain": [
       "<Figure size 432x288 with 1 Axes>"
      ]
     },
     "metadata": {
      "needs_background": "light"
     },
     "output_type": "display_data"
    }
   ],
   "source": [
    "plt.imshow(piano_roll_to_pretty_midi(target_example_batch.numpy()[0].T).get_piano_roll().T)"
   ]
  },
  {
   "cell_type": "code",
   "execution_count": 140,
   "metadata": {},
   "outputs": [
    {
     "data": {
      "text/plain": [
       "<matplotlib.image.AxesImage at 0xc54703a90>"
      ]
     },
     "execution_count": 140,
     "metadata": {},
     "output_type": "execute_result"
    },
    {
     "data": {
      "image/png": "[encoded data removed]",
      "text/plain": [
       "<Figure size 432x288 with 1 Axes>"
      ]
     },
     "metadata": {
      "needs_background": "light"
     },
     "output_type": "display_data"
    }
   ],
   "source": [
    "plt.imshow(piano_roll_to_pretty_midi(example_batch_predictions_2.numpy()[0].T).get_piano_roll().T)"
   ]
  },
  {
   "cell_type": "code",
   "execution_count": 71,
   "metadata": {},
   "outputs": [
    {
     "data": {
      "text/plain": [
       "<matplotlib.image.AxesImage at 0xb4bfc9910>"
      ]
     },
     "execution_count": 71,
     "metadata": {},
     "output_type": "execute_result"
    },
    {
     "data": {
      "image/png": "[encoded data removed]",
      "text/plain": [
       "<Figure size 432x288 with 1 Axes>"
      ]
     },
     "metadata": {
      "needs_background": "light"
     },
     "output_type": "display_data"
    }
   ],
   "source": [
    "plt.imshow(np.nonzero(np.diff(target_example_batch.numpy()[0], axis = 0)))"
   ]
  },
  {
   "cell_type": "markdown",
   "metadata": {},
   "source": [
    "### Generate Music"
   ]
  },
  {
   "cell_type": "code",
   "execution_count": 149,
   "metadata": {},
   "outputs": [
    {
     "name": "stdout",
     "output_type": "stream",
     "text": [
      "_________________________________________________________________\n",
      "Layer (type)                 Output Shape              Param #   \n",
      "=================================================================\n",
      "dense_16 (Dense)             (1, None, 256)            33024     \n",
      "_________________________________________________________________\n",
      "gru_8 (GRU)                  (1, None, 1024)           3935232   \n",
      "_________________________________________________________________\n",
      "dense_17 (Dense)             (1, None, 128)            131200    \n",
      "=================================================================\n",
      "Total params: 4,099,456\n",
      "Trainable params: 4,099,456\n",
      "Non-trainable params: 0\n",
      "_________________________________________________________________\n"
     ]
    }
   ],
   "source": [
    "model = build_model(1, None)\n",
    "model.load_weights(model_path)\n",
    "model.build(tf.TensorShape([1, None, keys_dim]))\n",
    "model.summary()"
   ]
  },
  {
   "cell_type": "code",
   "execution_count": 153,
   "metadata": {},
   "outputs": [
    {
     "data": {
      "text/plain": [
       "<matplotlib.image.AxesImage at 0xb5b4892d0>"
      ]
     },
     "execution_count": 153,
     "metadata": {},
     "output_type": "execute_result"
    },
    {
     "data": {
      "image/png": "[encoded data removed]",
      "text/plain": [
       "<Figure size 432x288 with 1 Axes>"
      ]
     },
     "metadata": {
      "needs_background": "light"
     },
     "output_type": "display_data"
    }
   ],
   "source": [
    "# Number of  notes to generate\n",
    "num_generate = 1000\n",
    "\n",
    "# Buffer for output\n",
    "result = np.zeros([num_generate+1, keys_dim], dtype=np.float32)\n",
    "plt.imshow(result)"
   ]
  },
  {
   "cell_type": "code",
   "execution_count": 154,
   "metadata": {},
   "outputs": [
    {
     "data": {
      "text/plain": [
       "TensorShape([Dimension(1), Dimension(1), Dimension(128)])"
      ]
     },
     "execution_count": 154,
     "metadata": {},
     "output_type": "execute_result"
    }
   ],
   "source": [
    "# Make first inout\n",
    "input_eval = tf.expand_dims(result[0:1], 0)\n",
    "input_eval.shape"
   ]
  },
  {
   "cell_type": "code",
   "execution_count": 155,
   "metadata": {},
   "outputs": [
    {
     "data": {
      "text/plain": [
       "<matplotlib.image.AxesImage at 0xc53a2fcd0>"
      ]
     },
     "execution_count": 155,
     "metadata": {},
     "output_type": "execute_result"
    },
    {
     "data": {
      "image/png": "[encoded data removed]",
      "text/plain": [
       "<Figure size 432x288 with 1 Axes>"
      ]
     },
     "metadata": {
      "needs_background": "light"
     },
     "output_type": "display_data"
    }
   ],
   "source": [
    "# Try to generate first\n",
    "model.reset_states()\n",
    "predictions = model(input_eval)\n",
    "predictions = tf.squeeze(predictions, 0)\n",
    "result[1] = predictions\n",
    "plt.imshow(predictions)"
   ]
  },
  {
   "cell_type": "code",
   "execution_count": 189,
   "metadata": {},
   "outputs": [
    {
     "data": {
      "text/plain": [
       "<matplotlib.image.AxesImage at 0xc5b0f7a10>"
      ]
     },
     "execution_count": 189,
     "metadata": {},
     "output_type": "execute_result"
    },
    {
     "data": {
      "image/png": "[encoded data removed]",
      "text/plain": [
       "<Figure size 432x288 with 1 Axes>"
      ]
     },
     "metadata": {
      "needs_background": "light"
     },
     "output_type": "display_data"
    }
   ],
   "source": [
    "# Initialize first keys randomly\n",
    "for i in range(10):\n",
    "    key = int(np.clip(np.random.normal(keys_dim/2, keys_dim/4), 0, keys_dim - 1))\n",
    "    result[0][key] = 100\n",
    "    \n",
    "plt.imshow(result[0:1])"
   ]
  },
  {
   "cell_type": "code",
   "execution_count": 194,
   "metadata": {},
   "outputs": [
    {
     "data": {
      "text/plain": [
       "<matplotlib.image.AxesImage at 0xc5b6cc790>"
      ]
     },
     "execution_count": 194,
     "metadata": {},
     "output_type": "execute_result"
    },
    {
     "data": {
      "image/png": "[encoded data removed]",
      "text/plain": [
       "<Figure size 432x288 with 1 Axes>"
      ]
     },
     "metadata": {
      "needs_background": "light"
     },
     "output_type": "display_data"
    }
   ],
   "source": [
    "# Use training data\n",
    "intro = target_example_batch[0]\n",
    "intro_length = intro.shape[0]\n",
    "result[0 : intro_length] = intro\n",
    "plt.imshow(result.T)"
   ]
  },
  {
   "cell_type": "code",
   "execution_count": 196,
   "metadata": {},
   "outputs": [
    {
     "data": {
      "text/plain": [
       "<matplotlib.image.AxesImage at 0xc5b9bb750>"
      ]
     },
     "execution_count": 196,
     "metadata": {},
     "output_type": "execute_result"
    },
    {
     "data": {
      "image/png": "[encoded data removed]",
      "text/plain": [
       "<Figure size 432x288 with 1 Axes>"
      ]
     },
     "metadata": {
      "needs_background": "light"
     },
     "output_type": "display_data"
    }
   ],
   "source": [
    "# Generate all\n",
    "model.reset_states()\n",
    "for i in range(num_generate):\n",
    "    input_eval = tf.expand_dims(result[ i : i + 1], 0)\n",
    "    predictions = model(input_eval)\n",
    "    if i > intro_length - 2:\n",
    "        result[ i + 1] = tf.squeeze(predictions, 0)\n",
    "\n",
    "plt.imshow(result.T)"
   ]
  },
  {
   "cell_type": "code",
   "execution_count": 197,
   "metadata": {},
   "outputs": [
    {
     "data": {
      "text/plain": [
       "<matplotlib.image.AxesImage at 0xc5bad3690>"
      ]
     },
     "execution_count": 197,
     "metadata": {},
     "output_type": "execute_result"
    },
    {
     "data": {
      "image/png": "[encoded data removed]",
      "text/plain": [
       "<Figure size 432x288 with 1 Axes>"
      ]
     },
     "metadata": {
      "needs_background": "light"
     },
     "output_type": "display_data"
    }
   ],
   "source": [
    "result_midi = piano_roll_to_pretty_midi(result.T)\n",
    "result_midi.write(\"result.midi\")\n",
    "plt.imshow(result_midi.get_piano_roll())"
   ]
  }
 ],
 "metadata": {
  "colab": {
   "collapsed_sections": [],
   "name": "music playground.ipynb",
   "provenance": [],
   "version": "0.3.2"
  },
  "kernelspec": {
   "display_name": "Python 2",
   "language": "python",
   "name": "python2"
  },
  "language_info": {
   "codemirror_mode": {
    "name": "ipython",
    "version": 2
   },
   "file_extension": ".py",
   "mimetype": "text/x-python",
   "name": "python",
   "nbconvert_exporter": "python",
   "pygments_lexer": "ipython2",
   "version": "2.7.15"
  }
 },
 "nbformat": 4,
 "nbformat_minor": 1
}
